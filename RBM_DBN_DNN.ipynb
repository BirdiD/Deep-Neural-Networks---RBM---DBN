{
  "nbformat": 4,
  "nbformat_minor": 0,
  "metadata": {
    "colab": {
      "name": "RBM_DBN_DNN.ipynb",
      "provenance": [],
      "collapsed_sections": []
    },
    "kernelspec": {
      "display_name": "Python 3",
      "language": "python",
      "name": "python3"
    },
    "language_info": {
      "codemirror_mode": {
        "name": "ipython",
        "version": 3
      },
      "file_extension": ".py",
      "mimetype": "text/x-python",
      "name": "python",
      "nbconvert_exporter": "python",
      "pygments_lexer": "ipython3",
      "version": "3.7.4"
    }
  },
  "cells": [
    {
      "cell_type": "markdown",
      "metadata": {
        "id": "b7rp0IR-iWue"
      },
      "source": [
        "### <font color=darkred size=6 > ABOUT THIS PROJECT </font>\n",
        "\n",
        "In this project, I build from scratch a deep neural network pre-trained (or not) for the classification of handwritten digits. The main goal is to compare the performances, in terms of good classification rates, of a pre-trained network and a randomly initialized network, according to the input data, the number of network layers and finally the number of neurons per layer. In the last section, we try to determine the architechture and hyperparameters giving the lowest classification error rate. "
      ]
    },
    {
      "cell_type": "markdown",
      "metadata": {
        "id": "QuEvc4v4KKdv"
      },
      "source": [
        "# Overview\n",
        "\n",
        "\n",
        "1. [Getting Started : setup](#Getting-Started)\n",
        "\n",
        "2. [Binary AlphaDigits](#Preprocessing)   \n",
        "\n",
        "3. [Handwritten digit with MNIST](#Exploring-the-data)\n",
        "\n",
        "4. [Restricted Boltzman Machine](#the-study)\n",
        "  * [Train RBM](#)\n",
        "  * [Generate images with RBM](#generate)\n",
        "    \n",
        "5. [Pretrain a Deep Belief Network & Deep Neural Network ](#)\n",
        "  * [Pretraining](#)   \n",
        "  * [Generate imgaes](#) \n",
        "  * [Backpropagation](#) \n",
        "      \n",
        "\n",
        "6.  [Performance evaluation](#)\n",
        "  * [ Error rates as a function of the number of hidden layers ](#)\n",
        "  * [ Error rates as a function of the number of neurons per layer](#)\n",
        "  * [ Error rates as a function of input data size](#)\n",
        "  * [ Hyperparameters tuning](#)"
      ]
    },
    {
      "cell_type": "markdown",
      "metadata": {
        "id": "2GVSaws1Jf5m"
      },
      "source": [
        "### <font color=darkred size=6 > SETUP </font>"
      ]
    },
    {
      "cell_type": "code",
      "metadata": {
        "id": "TQp4gCBOJf5t"
      },
      "source": [
        "from __future__ import print_function\n",
        "\n",
        "import numpy as np\n",
        "import matplotlib.pyplot as plt\n",
        "%matplotlib inline\n",
        "import pandas as pd\n",
        "from scipy.special import expit\n",
        "import warnings\n",
        "from tqdm import tqdm\n",
        "import seaborn as sns\n",
        "sns.set(rc={'figure.figsize':(20, 7)})\n",
        "warnings.filterwarnings(\"ignore\")"
      ],
      "execution_count": null,
      "outputs": []
    },
    {
      "cell_type": "markdown",
      "metadata": {
        "id": "ZPZAwQYf2WRI"
      },
      "source": [
        "Set up google drive environment in order to access the BinaryAlphadigit dataset"
      ]
    },
    {
      "cell_type": "code",
      "metadata": {
        "id": "gQQPBEXaKTGO"
      },
      "source": [
        "from pydrive.auth import GoogleAuth\n",
        "from pydrive.drive import GoogleDrive\n",
        "from google.colab import auth\n",
        "from oauth2client.client import GoogleCredentials\n",
        "# Authenticate and create the PyDrive client\n",
        "auth.authenticate_user()\n",
        "gauth = GoogleAuth()\n",
        "gauth.credentials = GoogleCredentials.get_application_default()\n",
        "drive = GoogleDrive(gauth)"
      ],
      "execution_count": null,
      "outputs": []
    },
    {
      "cell_type": "markdown",
      "metadata": {
        "id": "0DT5xeW72sxj"
      },
      "source": [
        "Load dataset from google drive"
      ]
    },
    {
      "cell_type": "code",
      "metadata": {
        "id": "ihpwOcWWKUSV"
      },
      "source": [
        "id = '11frDXFE_ZthYM209AhahzrNvA0TLhOnC'\n",
        "downloaded = drive.CreateFile({'id':id}) \n",
        "downloaded.GetContentFile('binaryalphadigs.mat')"
      ],
      "execution_count": null,
      "outputs": []
    },
    {
      "cell_type": "code",
      "metadata": {
        "id": "XGI_XNOQJf5u"
      },
      "source": [
        "import scipy.io as dd\n",
        "mat = dd.loadmat('binaryalphadigs.mat')\n",
        "data = mat['dat']"
      ],
      "execution_count": null,
      "outputs": []
    },
    {
      "cell_type": "markdown",
      "metadata": {
        "id": "pV87VcZkIBiW"
      },
      "source": [
        "### <font color=darkred size=6 > Binary AlphaDigits </font>\n",
        "\n",
        "The **lire_alpha_digit** function allows to retrieve data in a matrix form. It takes in argument the characters that we want to learn. To be more precise,  characters' indexes are the argument of the function."
      ]
    },
    {
      "cell_type": "code",
      "metadata": {
        "id": "cDiL-_kzyxeu"
      },
      "source": [
        "def lire_alpha_digit(*args):\n",
        "  alpha_digits = []\n",
        "  for arg in args:\n",
        "    for i in range(39):\n",
        "      alpha_digits.append(data[arg][i].flatten())\n",
        "  return np.array(alpha_digits)"
      ],
      "execution_count": null,
      "outputs": []
    },
    {
      "cell_type": "code",
      "metadata": {
        "id": "n6P8mwEZ6RRN"
      },
      "source": [
        "alpha = lire_alpha_digit(10,11,35)"
      ],
      "execution_count": null,
      "outputs": []
    },
    {
      "cell_type": "code",
      "metadata": {
        "colab": {
          "base_uri": "https://localhost:8080/"
        },
        "id": "FoHXxh8X6gpQ",
        "outputId": "ec5ae064-a07f-482c-f463-60baccc13008"
      },
      "source": [
        "alpha.shape"
      ],
      "execution_count": null,
      "outputs": [
        {
          "output_type": "execute_result",
          "data": {
            "text/plain": [
              "(117, 320)"
            ]
          },
          "metadata": {
            "tags": []
          },
          "execution_count": 6
        }
      ]
    },
    {
      "cell_type": "markdown",
      "metadata": {
        "id": "GzbVKrBfdSg-"
      },
      "source": [
        "---\n",
        "The function **afficher_image** will plot the images generated by our models."
      ]
    },
    {
      "cell_type": "code",
      "metadata": {
        "id": "sK0N_sSkJf5v"
      },
      "source": [
        "def afficher_image(img):\n",
        "    plt.imshow(img, cmap='gray')\n",
        "    plt.show()"
      ],
      "execution_count": null,
      "outputs": []
    },
    {
      "cell_type": "code",
      "metadata": {
        "colab": {
          "base_uri": "https://localhost:8080/",
          "height": 1000
        },
        "id": "nh-gI8lgmf8s",
        "outputId": "ac7732ae-56f0-478d-b083-f7dcdd895c8e"
      },
      "source": [
        "afficher_image(alpha[0].reshape(20,16))"
      ],
      "execution_count": null,
      "outputs": [
        {
          "output_type": "display_data",
          "data": {
            "image/png": "[encoded data removed]",
            "text/plain": [
              "<Figure size 432x288 with 1 Axes>"
            ]
          },
          "metadata": {
            "tags": [],
            "needs_background": "light"
          }
        }
      ]
    },
    {
      "cell_type": "markdown",
      "metadata": {
        "id": "17-v901Ve0SC"
      },
      "source": [
        "---"
      ]
    },
    {
      "cell_type": "markdown",
      "metadata": {
        "id": "TYxQEIDlUKvv"
      },
      "source": [
        "### <font color=darkred size=6 > Handwritten digit with MNIST</font>\n",
        "\n",
        "We will use the [MNIST](http://yann.lecun.com/exdb/mnist) dataset.\n",
        "This dataset contains images representing handwritten digits. \n",
        "Each image is 28 x 28 pixels, and each pixel is represented by a number (gray level). \n",
        "\n",
        "These arrays can be flattened into vectors of 28 x 28 = 784 numbers.\n",
        "You can then see each image as a point in a 784-dimensional vector space. \n",
        "You can find interesting visualisations of this vector space [http://colah.github.io/posts/2014-10-Visualizing-MNIST/](http://colah.github.io/posts/2014-10-Visualizing-MNIST/).\n",
        "\n",
        "The labels in $\\{0, 1, 2, \\ldots, 9\\}$ giving the digit on the image can be represented using one-hot encoding: labels in $\\{0, 1, 2, \\ldots, 9\\}$ are replaced by labels in $\\{ 0, 1\\}^{10}$, namely $0$ is replaced by $(1, 0, \\ldots 0)$, $1$ is replaced by $(0, 1, 0, \\ldots 0)$, $2$ is replaced by $(0, 0, 1, 0, \\ldots, 0)$, etc.\n",
        "\n",
        "Also, MNIST data is grayscale pixels in $\\{0, \\ldots, 255\\}$. We will transform in black and white.\n",
        "\n",
        "We will define a certain threshold. If pixels are less than this threshold, it corresponds to 0 otherwise we replace them by 1. "
      ]
    },
    {
      "cell_type": "code",
      "metadata": {
        "colab": {
          "base_uri": "https://localhost:8080/"
        },
        "id": "M7epI_Mi2mxw",
        "outputId": "6d3c4e03-4187-4124-9715-6cc268df8a21"
      },
      "source": [
        "import keras\n",
        "from keras import backend as K\n",
        "from keras.datasets import mnist\n",
        "from tensorflow.keras.utils import to_categorical\n",
        "\n",
        "\n",
        "#We set a threshold to 129\n",
        "\n",
        "threshold = 129\n",
        "def grayscale_to_black_white(X):\n",
        "  XX = np.empty_like(X)\n",
        "  XX[X< threshold] = 0\n",
        "  XX[X>=threshold] = 1\n",
        "  XX = XX.reshape(*XX.shape, 1) \n",
        "  return XX\n",
        "\n",
        "# Load the data\n",
        "\n",
        "(X_train, y_train), (X_test, y_test) = mnist.load_data()\n",
        "X_train = grayscale_to_black_white(X_train)\n",
        "X_test = grayscale_to_black_white(X_test)\n",
        "\n",
        "num_train  = X_train.shape[0]\n",
        "num_test   = X_test.shape[0]\n",
        "img_height = X_train.shape[1]\n",
        "img_width  = X_train.shape[2]\n",
        "X_train = X_train.reshape((num_train, img_width * img_height))\n",
        "X_test  = X_test.reshape((num_test, img_width * img_height))\n",
        "\n",
        "print('X_train shape:', X_train.shape)\n",
        "print('X_test shape:', X_test.shape)\n",
        "print('y_train shape:', y_train.shape)\n",
        "print('y_test shape:', y_test.shape)"
      ],
      "execution_count": null,
      "outputs": [
        {
          "output_type": "stream",
          "text": [
            "Using TensorFlow backend.\n"
          ],
          "name": "stderr"
        },
        {
          "output_type": "stream",
          "text": [
            "X_train shape: (60000, 784)\n",
            "X_test shape: (10000, 784)\n",
            "y_train shape: (60000,)\n",
            "y_test shape: (10000,)\n"
          ],
          "name": "stdout"
        }
      ]
    },
    {
      "cell_type": "markdown",
      "metadata": {
        "id": "G4aD9WWlfP5W"
      },
      "source": [
        "In the next cell we illustrate the first four elements of the training data: \n",
        "pixels of the digit and their corresponding label."
      ]
    },
    {
      "cell_type": "code",
      "metadata": {
        "colab": {
          "base_uri": "https://localhost:8080/",
          "height": 159
        },
        "id": "5dHK2xBe3pSN",
        "outputId": "a31c69a9-e2ab-43c7-ce63-a279ad7e07d0"
      },
      "source": [
        "plt.figure(figsize=(8, 2))\n",
        "for i in range(4):\n",
        "    plt.subplot(1, 4, i+1)\n",
        "    plt.imshow(X_train[i].reshape(28, 28), \n",
        "               interpolation=\"none\", cmap=\"gray_r\")\n",
        "    plt.title('Label=%d' % y_train[i], fontsize=14)\n",
        "    plt.axis(\"off\")\n",
        "plt.tight_layout()"
      ],
      "execution_count": null,
      "outputs": [
        {
          "output_type": "display_data",
          "data": {
            "image/png": "[encoded data removed]",
            "text/plain": [
              "<Figure size 576x144 with 4 Axes>"
            ]
          },
          "metadata": {
            "tags": [],
            "needs_background": "light"
          }
        }
      ]
    },
    {
      "cell_type": "markdown",
      "metadata": {
        "id": "TTQexkW4fpS1"
      },
      "source": [
        "Here is a glimpse of the digits without their labels"
      ]
    },
    {
      "cell_type": "code",
      "metadata": {
        "colab": {
          "base_uri": "https://localhost:8080/",
          "height": 297
        },
        "id": "GuQDyKg54L3J",
        "outputId": "df11b2e4-ea8a-4388-f643-861825502f62"
      },
      "source": [
        "n_rows = 4\n",
        "n_cols = 8\n",
        "plt.figure(figsize=(8, 4))\n",
        "for i in range(n_rows * n_cols):\n",
        "    plt.subplot(n_rows, n_cols, i+1)\n",
        "    plt.imshow(X_train[i].reshape(28, 28),\n",
        "               interpolation=\"none\", cmap=\"gray_r\")\n",
        "    plt.axis(\"off\")\n",
        "plt.tight_layout()"
      ],
      "execution_count": null,
      "outputs": [
        {
          "output_type": "display_data",
          "data": {
            "image/png": "[encoded data removed]",
            "text/plain": [
              "<Figure size 576x288 with 32 Axes>"
            ]
          },
          "metadata": {
            "tags": [],
            "needs_background": "light"
          }
        }
      ]
    },
    {
      "cell_type": "markdown",
      "metadata": {
        "id": "LltE8BRA4YB2"
      },
      "source": [
        "We need to one-hot encode the labels"
      ]
    },
    {
      "cell_type": "code",
      "metadata": {
        "colab": {
          "base_uri": "https://localhost:8080/"
        },
        "id": "OKcWH4Vg4RXr",
        "outputId": "334fbbfa-5561-4ed5-8d77-88de4b2455fc"
      },
      "source": [
        "y_train = to_categorical(y_train, num_classes=10)\n",
        "y_test = to_categorical(y_test, num_classes=10)\n",
        "\n",
        "print('y_train shape:', y_train.shape)\n",
        "print('y_test shape:', y_test.shape)"
      ],
      "execution_count": null,
      "outputs": [
        {
          "output_type": "stream",
          "text": [
            "y_train shape: (60000, 10)\n",
            "y_test shape: (10000, 10)\n"
          ],
          "name": "stdout"
        }
      ]
    },
    {
      "cell_type": "markdown",
      "metadata": {
        "id": "gnbM822jIGKH"
      },
      "source": [
        "### <font color=darkred size=6 > RBM class : train and generate images </font>\n",
        "\n"
      ]
    },
    {
      "cell_type": "markdown",
      "metadata": {
        "id": "FkuwlTGpKKd6"
      },
      "source": [
        "<img src=\"https://paperswithcode.com/media/methods/1_Z-uEtQkFPk7MtbolOSUvrA_qoiHKUX.png\" class=\"center\" style=\"width: 600px; max-width: 100%; height: auto\" title=\"Restricted Boltzman Machine.\" />\n",
        "\n",
        "Image source : https://paperswithcode.com/method/restricted-boltzmann-machine"
      ]
    },
    {
      "cell_type": "markdown",
      "metadata": {
        "id": "WZSt3QU0KKd6"
      },
      "source": [
        "**Restricted Boltzman Machines** are generative networks composed of two layers : a visible layer and hidden layer. RBM's networks learn a probability distribution over given inputs. Each one of visible layer nodes is connected to the hidden layer nodes. Connections between nodes are unidirected."
      ]
    },
    {
      "cell_type": "markdown",
      "metadata": {
        "id": "vmGiJVKXEJhM"
      },
      "source": [
        "We compute in this section a ***Restricted Boltzman Machine*** class to train and generate digits images. We start by initializing the bias/weight of the RBM. The visible and hidden bias are initialized to 0 and the weights are randomly initialized according to centered normal distribution with a variance equal to 0.01. \n",
        "\n",
        "The function **entree_sortie_RBM** compute the output units value with the sigmoid function given a RBM and the input data as arguments whereas **sortie_entree_RBM** function takes as argument a RBM, output data and returns the value of the input units from the sigmoid function.\n",
        "\n",
        "Once parameters are initialized, we learn the RBM in an unsupervised way using the Contrastive-Divergence-1 algorithm."
      ]
    },
    {
      "cell_type": "markdown",
      "metadata": {
        "id": "sNzrLGE6DgNE"
      },
      "source": [
        "#### <font size=5 > Train RBM </font>"
      ]
    },
    {
      "cell_type": "code",
      "metadata": {
        "id": "Gn5SGdLjJf5v"
      },
      "source": [
        "#Compute sigmoid \n",
        "def sigmoid(x):\n",
        "  return 1 / (1 + np.exp(-x))\n",
        "\n",
        "class RBM(object):\n",
        "    \n",
        "    \"\"\"Restricted Boltzmann Machine (RBM)  \"\"\"\n",
        "    \n",
        "    ##Randomly initialized the RBM weights and biais\n",
        "\n",
        "    def __init__(self, n_hidden, n_visible):    \n",
        "      self.n_hidden = n_hidden\n",
        "      self.n_visible = n_visible\n",
        "      self.a = np.zeros((1, self.n_visible))\n",
        "      self.b = np.zeros((1, self.n_hidden))\n",
        "      self.w = np.random.normal(0, 0.1, size=(self.n_visible, self.n_hidden))\n",
        "\n",
        "    #compute output units given a RBM and input data    \n",
        "    def entree_sortie_RBM(self,x):\n",
        "      proba = expit(self.b + np.dot(x, self.w))\n",
        "      return proba\n",
        "\n",
        "    #Compute input units value given a RBM and the output data\n",
        "    def sortie_entree_RBM(self, h):\n",
        "      proba = expit(self.a + np.dot(h, self.w.T))\n",
        "      return proba \n",
        "    \n",
        "    #Learn the RBM's weights and bias\n",
        "\n",
        "    def train_RBM(self, X,learning_rate, epochs, batch_size):\n",
        "      #get batches\n",
        "      batches = []\n",
        "      n=np.shape(X)[0]\n",
        "      for i in range(0, n, batch_size):\n",
        "        batches.append(X[i:i + batch_size])\n",
        "      for epoch in range(epochs):\n",
        "        for mini_batch in range(len(batches)):\n",
        "          v0 = np.copy(batches[mini_batch])\n",
        "\n",
        "          prob_h_given_v0 = self.entree_sortie_RBM(v0)\n",
        "          h0 = (np.random.uniform(0,1,size=prob_h_given_v0.shape) < prob_h_given_v0)*1            \n",
        "          prob_v_given_h0 = self.sortie_entree_RBM(h0)\n",
        "          v1 = (np.random.uniform(0,1,size=prob_v_given_h0.shape) < prob_v_given_h0)*1          \n",
        "          prob_h_given_v1 = self.entree_sortie_RBM(v1)\n",
        "          h1 = (np.random.uniform(0,1,size=prob_h_given_v1.shape) < prob_h_given_v1)*1\n",
        "\n",
        "          #Compute gradients\n",
        "          delta_w = (np.dot(prob_h_given_v0.T, v0) - np.dot(prob_h_given_v1.T, v1)).transpose()\n",
        "          delta_a = np.sum(v0, axis=0) - np.sum(v1, axis=0)\n",
        "          delta_b = np.sum(h0, axis=0) - np.sum(h1, axis=0)\n",
        "\n",
        "            \n",
        "          # Updata weights and bias   \n",
        "          self.w += (learning_rate/len(v0))*delta_w\n",
        "          self.b += (learning_rate/len(v0))*delta_b\n",
        "          self.a += (learning_rate/len(v0))*delta_a\n",
        "\n",
        "        #Compute reconstruction mean square error\n",
        "        h = self.entree_sortie_RBM(X)\n",
        "        X_reconstructed = self.sortie_entree_RBM(h)\n",
        "        error = np.mean((X - X_reconstructed) ** 2)  \n",
        "        print(\"Epoch %s completed. Reconstructed Error is %0.2f.\" % (epoch + 1, error))  \n",
        "      return self\n",
        "\n",
        "    #Compute a function that regenerate an image\n",
        "    def generer_image_RBM(self, nb_iterations, nb_images): \n",
        "      dim_v=np.shape(self.w)[0]\n",
        "      v = np.random.randint(low = 0, high = 2, size = (nb_images, dim_v))\n",
        "      prob_h_given_v = self.entree_sortie_RBM(v)\n",
        "      h = (prob_h_given_v > np.random.uniform(0, 1, size = prob_h_given_v.shape))*1\n",
        "      for i in range(nb_iterations):\n",
        "        prob_v_given_h = self.sortie_entree_RBM(h)\n",
        "        v = (prob_v_given_h > np.random.uniform(0, 1, size = prob_v_given_h.shape))*1\n",
        "        prob_h_given_v = self.entree_sortie_RBM(v)\n",
        "        h= (prob_h_given_v > np.random.uniform(0, 1, size = prob_h_given_v.shape))*1\n",
        "      return v"
      ],
      "execution_count": null,
      "outputs": []
    },
    {
      "cell_type": "markdown",
      "metadata": {
        "id": "I8HKMR6fBfk4"
      },
      "source": [
        "In the following scripts, we define a RBM object by calling on the above class, we train it and generate the binary alpha digits images. At each epochs, we print the reconstruction mean square error to verify if it decreases."
      ]
    },
    {
      "cell_type": "code",
      "metadata": {
        "id": "CEx6T7YAJf5w"
      },
      "source": [
        "image = alpha\n",
        "n_visible = 320\n",
        "n_hidden = 320\n",
        "learning_rate = 0.01\n",
        "epochs = 50\n",
        "batch_size = 4\n",
        "birdi = RBM(n_visible, n_hidden)"
      ],
      "execution_count": null,
      "outputs": []
    },
    {
      "cell_type": "code",
      "metadata": {
        "colab": {
          "base_uri": "https://localhost:8080/"
        },
        "id": "AHPMwYuXJf5x",
        "outputId": "faaee9c5-ae11-4938-fa51-76f7878db607"
      },
      "source": [
        "birdi.train_RBM(image,learning_rate, epochs, batch_size)"
      ],
      "execution_count": null,
      "outputs": [
        {
          "output_type": "stream",
          "text": [
            "Epoch 1 completed. Reconstructed Error is 0.19.\n",
            "Epoch 2 completed. Reconstructed Error is 0.16.\n",
            "Epoch 3 completed. Reconstructed Error is 0.14.\n",
            "Epoch 4 completed. Reconstructed Error is 0.13.\n",
            "Epoch 5 completed. Reconstructed Error is 0.12.\n",
            "Epoch 6 completed. Reconstructed Error is 0.11.\n",
            "Epoch 7 completed. Reconstructed Error is 0.11.\n",
            "Epoch 8 completed. Reconstructed Error is 0.10.\n",
            "Epoch 9 completed. Reconstructed Error is 0.10.\n",
            "Epoch 10 completed. Reconstructed Error is 0.10.\n",
            "Epoch 11 completed. Reconstructed Error is 0.09.\n",
            "Epoch 12 completed. Reconstructed Error is 0.09.\n",
            "Epoch 13 completed. Reconstructed Error is 0.09.\n",
            "Epoch 14 completed. Reconstructed Error is 0.08.\n",
            "Epoch 15 completed. Reconstructed Error is 0.08.\n",
            "Epoch 16 completed. Reconstructed Error is 0.08.\n",
            "Epoch 17 completed. Reconstructed Error is 0.08.\n",
            "Epoch 18 completed. Reconstructed Error is 0.08.\n",
            "Epoch 19 completed. Reconstructed Error is 0.07.\n",
            "Epoch 20 completed. Reconstructed Error is 0.07.\n",
            "Epoch 21 completed. Reconstructed Error is 0.07.\n",
            "Epoch 22 completed. Reconstructed Error is 0.07.\n",
            "Epoch 23 completed. Reconstructed Error is 0.07.\n",
            "Epoch 24 completed. Reconstructed Error is 0.07.\n",
            "Epoch 25 completed. Reconstructed Error is 0.06.\n",
            "Epoch 26 completed. Reconstructed Error is 0.06.\n",
            "Epoch 27 completed. Reconstructed Error is 0.06.\n",
            "Epoch 28 completed. Reconstructed Error is 0.06.\n",
            "Epoch 29 completed. Reconstructed Error is 0.06.\n",
            "Epoch 30 completed. Reconstructed Error is 0.06.\n",
            "Epoch 31 completed. Reconstructed Error is 0.05.\n",
            "Epoch 32 completed. Reconstructed Error is 0.05.\n",
            "Epoch 33 completed. Reconstructed Error is 0.05.\n",
            "Epoch 34 completed. Reconstructed Error is 0.05.\n",
            "Epoch 35 completed. Reconstructed Error is 0.05.\n",
            "Epoch 36 completed. Reconstructed Error is 0.05.\n",
            "Epoch 37 completed. Reconstructed Error is 0.05.\n",
            "Epoch 38 completed. Reconstructed Error is 0.05.\n",
            "Epoch 39 completed. Reconstructed Error is 0.05.\n",
            "Epoch 40 completed. Reconstructed Error is 0.05.\n",
            "Epoch 41 completed. Reconstructed Error is 0.04.\n",
            "Epoch 42 completed. Reconstructed Error is 0.04.\n",
            "Epoch 43 completed. Reconstructed Error is 0.04.\n",
            "Epoch 44 completed. Reconstructed Error is 0.04.\n",
            "Epoch 45 completed. Reconstructed Error is 0.04.\n",
            "Epoch 46 completed. Reconstructed Error is 0.04.\n",
            "Epoch 47 completed. Reconstructed Error is 0.04.\n",
            "Epoch 48 completed. Reconstructed Error is 0.04.\n",
            "Epoch 49 completed. Reconstructed Error is 0.04.\n",
            "Epoch 50 completed. Reconstructed Error is 0.04.\n"
          ],
          "name": "stdout"
        },
        {
          "output_type": "execute_result",
          "data": {
            "text/plain": [
              "<__main__.RBM at 0x7fe1666fe850>"
            ]
          },
          "metadata": {
            "tags": []
          },
          "execution_count": 25
        }
      ]
    },
    {
      "cell_type": "markdown",
      "metadata": {
        "id": "oERJb9zWILVJ"
      },
      "source": [
        "#### <font  size=5 > Generate images with RBM</font>"
      ]
    },
    {
      "cell_type": "code",
      "metadata": {
        "id": "UBkMDuHdJf5y"
      },
      "source": [
        "nb_iterations, nb_images = 1000, 5 \n",
        "img = birdi.generer_image_RBM(nb_iterations, nb_images)"
      ],
      "execution_count": null,
      "outputs": []
    },
    {
      "cell_type": "code",
      "metadata": {
        "colab": {
          "base_uri": "https://localhost:8080/",
          "height": 1000
        },
        "id": "LQ9MlM69Jf5y",
        "scrolled": true,
        "outputId": "ea99b9ed-601f-463d-ad5d-b056001bda85"
      },
      "source": [
        "for i in range(nb_images):\n",
        "    afficher_image(img[i].reshape(20,16))\n",
        "#afficher_image(img)"
      ],
      "execution_count": null,
      "outputs": [
        {
          "output_type": "display_data",
          "data": {
            "image/png": "[encoded data removed]",
            "text/plain": [
              "<Figure size 432x288 with 1 Axes>"
            ]
          },
          "metadata": {
            "tags": [],
            "needs_background": "light"
          }
        },
        {
          "output_type": "display_data",
          "data": {
            "image/png": "[encoded data removed]",
            "text/plain": [
              "<Figure size 432x288 with 1 Axes>"
            ]
          },
          "metadata": {
            "tags": [],
            "needs_background": "light"
          }
        },
        {
          "output_type": "display_data",
          "data": {
            "image/png": "[encoded data removed]",
            "text/plain": [
              "<Figure size 432x288 with 1 Axes>"
            ]
          },
          "metadata": {
            "tags": [],
            "needs_background": "light"
          }
        },
        {
          "output_type": "display_data",
          "data": {
            "image/png": "[encoded data removed]",
            "text/plain": [
              "<Figure size 432x288 with 1 Axes>"
            ]
          },
          "metadata": {
            "tags": [],
            "needs_background": "light"
          }
        },
        {
          "output_type": "display_data",
          "data": {
            "image/png": "[encoded data removed]",
            "text/plain": [
              "<Figure size 432x288 with 1 Axes>"
            ]
          },
          "metadata": {
            "tags": [],
            "needs_background": "light"
          }
        }
      ]
    },
    {
      "cell_type": "markdown",
      "metadata": {
        "id": "0gMylGsGao2U"
      },
      "source": [
        "### <font color=darkred size=6 > Pretrain a Deep Belief Network & Deep Neural Network </font>"
      ]
    },
    {
      "cell_type": "markdown",
      "metadata": {
        "id": "w2TNxqcvKKeA"
      },
      "source": [
        "Deep Belief Networks are neural networks that consist of stacked RBMs"
      ]
    },
    {
      "cell_type": "markdown",
      "metadata": {
        "id": "zROyKvkvAKVB"
      },
      "source": [
        "<img src=\"https://i.imgur.com/CodLXbO.png\" class=\"center\" style=\"width: 700px; max-width: 100%; height: auto\" title=\"Restricted Boltzman Machine.\" />"
      ]
    },
    {
      "cell_type": "code",
      "metadata": {
        "id": "TK1ftwXsFjqO"
      },
      "source": [
        "class DBN(object):\n",
        "\n",
        "  #Initialize weights and bias and all layers (including our DNN classification layer)\n",
        "\n",
        "  def __init__(self, nb_per_layers):\n",
        "  \n",
        "    self.nb_per_layers = nb_per_layers\n",
        "    self.rbm_layers = []\n",
        "    for i in range(len(self.nb_per_layers)-1):\n",
        "      self.rbm_layers.append(RBM(self.nb_per_layers[i+1], self.nb_per_layers[i]))\n",
        "\n",
        "  def pretrain_DNN(self, X,learning_rate, epochs, batch_size): \n",
        "    \n",
        "    for i in range(len(self.rbm_layers)-1):\n",
        "      size_entree_couche_k_plus_1=np.shape(self.rbm_layers[i+1].a)[1]\n",
        "      size_sortie_couche_k=np.shape(self.rbm_layers[i].b)[1]\n",
        "      assert size_entree_couche_k_plus_1==size_sortie_couche_k, \"Il faut que taille RBM K+1 = taille sortie du RBM K\"\n",
        "\n",
        "    #We do not learn the mast RBM (classification layer)\n",
        "    self.trained_DNN = []\n",
        "    n_layers = len(self.rbm_layers) - 1\n",
        "    self.trained_DNN.append(self.rbm_layers[0].train_RBM(X,learning_rate, epochs, batch_size))\n",
        "    for i in range(1, n_layers):\n",
        "      H=[]\n",
        "      prob_h_given_v = self.trained_DNN[0].entree_sortie_RBM(X)\n",
        "      h = (prob_h_given_v < np.random.uniform(0, 1, size = prob_h_given_v.shape))*1\n",
        "      H.append(h)\n",
        "      for k in range(1, i):\n",
        "        prob_hk_given_hk_1 = self.trained_DNN[k].entree_sortie_RBM(H[-1])  \n",
        "        hk = (prob_hk_given_hk_1 < np.random.uniform(0,1,size=prob_hk_given_hk_1.shape))*1\n",
        "        H.append(hk)  \n",
        "      self.trained_DNN.append(self.rbm_layers[i].train_RBM(H[-1], learning_rate, epochs, batch_size))\n",
        "    \n",
        "    #Append the output layer that was not learned\n",
        "    self.trained_DNN.append(self.rbm_layers[-1])\n",
        "    return self.trained_DNN"
      ],
      "execution_count": null,
      "outputs": []
    },
    {
      "cell_type": "markdown",
      "metadata": {
        "id": "1ZFhg_WcKKeB"
      },
      "source": [
        "#### <font  size=5 > Generate images with DBN </font>"
      ]
    },
    {
      "cell_type": "code",
      "metadata": {
        "id": "2NHIuCy2C2pm"
      },
      "source": [
        "def generer_images_DBN(trained_DNN, nb_iter_gibbs, nb_images):\n",
        "    \n",
        "    \"\"\"\n",
        "    Generate images with a pretrain DNN\n",
        "    We do not take intot account the last RBM (our DNN classification layer)\n",
        "    \"\"\"\n",
        "    #make a copy just to avoid modifying our list of RBM.\n",
        "    DNN = trained_DNN.copy() \n",
        "    DNN.pop()\n",
        "    RBM=DNN[-1]\n",
        "    dim_h_P_1=RBM.w.shape[0]  \n",
        "    \n",
        "    #v is layer P-1 (we have P layers)\n",
        "    h_p_1=(np.random.uniform(0,1,size=(nb_images,dim_h_P_1))<0.5)*1   \n",
        "    prob_h_p_given_h_p_1=RBM.entree_sortie_RBM(h_p_1)\n",
        "    h_p=(prob_h_p_given_h_p_1 > np.random.uniform(0,1,size=prob_h_p_given_h_p_1.shape))*1\n",
        "\n",
        "    for g in range(nb_iter_gibbs):       \n",
        "        prob_h_p_1_given_h_p=RBM.sortie_entree_RBM(h_p)\n",
        "        h_p_1=(prob_h_p_1_given_h_p > np.random.uniform(0,1,size=prob_h_p_1_given_h_p.shape))*1\n",
        "        prob_h_p_given_h_p_1 = RBM.entree_sortie_RBM(h_p_1)\n",
        "        h_p=(prob_h_p_given_h_p_1 > np.random.uniform(0,1,size=prob_h_p_given_h_p_1.shape))*1\n",
        "        \n",
        "    H=[h_p_1]\n",
        "    for k in range(len(DNN)-2,-1,-1):    \n",
        "        prob_hk_1_given_hk=DNN[k].sortie_entree_RBM(H[-1])\n",
        "        hk_1=(prob_hk_1_given_hk > np.random.uniform(0,1,size=prob_hk_1_given_hk.shape))*1\n",
        "        H.append(hk_1)     \n",
        "    matrice_images=H[-1]\n",
        "    return(matrice_images)"
      ],
      "execution_count": null,
      "outputs": []
    },
    {
      "cell_type": "markdown",
      "metadata": {
        "id": "Ht7WKnstKKeC"
      },
      "source": [
        "In the following cell, we learn a DBN and generate the binary alpha digits images."
      ]
    },
    {
      "cell_type": "code",
      "metadata": {
        "id": "cPOfBFOtQJWJ",
        "outputId": "fca8fe77-03ce-4eb1-a1dc-634809067634"
      },
      "source": [
        "DNN_object = DBN([320,320,320,320,320])\n",
        "\n",
        "trained_DNN = DNN_object.pretrain_DNN(image, 0.01, 50, 4)"
      ],
      "execution_count": null,
      "outputs": [
        {
          "output_type": "stream",
          "text": [
            "Epoch 1 completed. Reconstructed Error is 0.19.\n",
            "Epoch 2 completed. Reconstructed Error is 0.16.\n",
            "Epoch 3 completed. Reconstructed Error is 0.14.\n",
            "Epoch 4 completed. Reconstructed Error is 0.13.\n",
            "Epoch 5 completed. Reconstructed Error is 0.12.\n",
            "Epoch 6 completed. Reconstructed Error is 0.11.\n",
            "Epoch 7 completed. Reconstructed Error is 0.11.\n",
            "Epoch 8 completed. Reconstructed Error is 0.10.\n",
            "Epoch 9 completed. Reconstructed Error is 0.10.\n",
            "Epoch 10 completed. Reconstructed Error is 0.09.\n",
            "Epoch 11 completed. Reconstructed Error is 0.09.\n",
            "Epoch 12 completed. Reconstructed Error is 0.09.\n",
            "Epoch 13 completed. Reconstructed Error is 0.09.\n",
            "Epoch 14 completed. Reconstructed Error is 0.08.\n",
            "Epoch 15 completed. Reconstructed Error is 0.08.\n",
            "Epoch 16 completed. Reconstructed Error is 0.08.\n",
            "Epoch 17 completed. Reconstructed Error is 0.08.\n",
            "Epoch 18 completed. Reconstructed Error is 0.08.\n",
            "Epoch 19 completed. Reconstructed Error is 0.07.\n",
            "Epoch 20 completed. Reconstructed Error is 0.07.\n",
            "Epoch 21 completed. Reconstructed Error is 0.07.\n",
            "Epoch 22 completed. Reconstructed Error is 0.07.\n",
            "Epoch 23 completed. Reconstructed Error is 0.07.\n",
            "Epoch 24 completed. Reconstructed Error is 0.07.\n",
            "Epoch 25 completed. Reconstructed Error is 0.06.\n",
            "Epoch 26 completed. Reconstructed Error is 0.06.\n",
            "Epoch 27 completed. Reconstructed Error is 0.06.\n",
            "Epoch 28 completed. Reconstructed Error is 0.06.\n",
            "Epoch 29 completed. Reconstructed Error is 0.06.\n",
            "Epoch 30 completed. Reconstructed Error is 0.06.\n",
            "Epoch 31 completed. Reconstructed Error is 0.06.\n",
            "Epoch 32 completed. Reconstructed Error is 0.05.\n",
            "Epoch 33 completed. Reconstructed Error is 0.05.\n",
            "Epoch 34 completed. Reconstructed Error is 0.05.\n",
            "Epoch 35 completed. Reconstructed Error is 0.05.\n",
            "Epoch 36 completed. Reconstructed Error is 0.05.\n",
            "Epoch 37 completed. Reconstructed Error is 0.05.\n",
            "Epoch 38 completed. Reconstructed Error is 0.05.\n",
            "Epoch 39 completed. Reconstructed Error is 0.05.\n",
            "Epoch 40 completed. Reconstructed Error is 0.05.\n",
            "Epoch 41 completed. Reconstructed Error is 0.05.\n",
            "Epoch 42 completed. Reconstructed Error is 0.04.\n",
            "Epoch 43 completed. Reconstructed Error is 0.04.\n",
            "Epoch 44 completed. Reconstructed Error is 0.04.\n",
            "Epoch 45 completed. Reconstructed Error is 0.04.\n",
            "Epoch 46 completed. Reconstructed Error is 0.04.\n",
            "Epoch 47 completed. Reconstructed Error is 0.04.\n",
            "Epoch 48 completed. Reconstructed Error is 0.04.\n",
            "Epoch 49 completed. Reconstructed Error is 0.04.\n",
            "Epoch 50 completed. Reconstructed Error is 0.04.\n",
            "Epoch 1 completed. Reconstructed Error is 0.21.\n",
            "Epoch 2 completed. Reconstructed Error is 0.20.\n",
            "Epoch 3 completed. Reconstructed Error is 0.17.\n",
            "Epoch 4 completed. Reconstructed Error is 0.15.\n",
            "Epoch 5 completed. Reconstructed Error is 0.13.\n",
            "Epoch 6 completed. Reconstructed Error is 0.13.\n",
            "Epoch 7 completed. Reconstructed Error is 0.12.\n",
            "Epoch 8 completed. Reconstructed Error is 0.12.\n",
            "Epoch 9 completed. Reconstructed Error is 0.11.\n",
            "Epoch 10 completed. Reconstructed Error is 0.10.\n",
            "Epoch 11 completed. Reconstructed Error is 0.10.\n",
            "Epoch 12 completed. Reconstructed Error is 0.10.\n",
            "Epoch 13 completed. Reconstructed Error is 0.10.\n",
            "Epoch 14 completed. Reconstructed Error is 0.09.\n",
            "Epoch 15 completed. Reconstructed Error is 0.09.\n",
            "Epoch 16 completed. Reconstructed Error is 0.09.\n",
            "Epoch 17 completed. Reconstructed Error is 0.09.\n",
            "Epoch 18 completed. Reconstructed Error is 0.08.\n",
            "Epoch 19 completed. Reconstructed Error is 0.08.\n",
            "Epoch 20 completed. Reconstructed Error is 0.08.\n",
            "Epoch 21 completed. Reconstructed Error is 0.08.\n",
            "Epoch 22 completed. Reconstructed Error is 0.08.\n",
            "Epoch 23 completed. Reconstructed Error is 0.08.\n",
            "Epoch 24 completed. Reconstructed Error is 0.07.\n",
            "Epoch 25 completed. Reconstructed Error is 0.07.\n",
            "Epoch 26 completed. Reconstructed Error is 0.07.\n",
            "Epoch 27 completed. Reconstructed Error is 0.07.\n",
            "Epoch 28 completed. Reconstructed Error is 0.07.\n",
            "Epoch 29 completed. Reconstructed Error is 0.07.\n",
            "Epoch 30 completed. Reconstructed Error is 0.07.\n",
            "Epoch 31 completed. Reconstructed Error is 0.07.\n",
            "Epoch 32 completed. Reconstructed Error is 0.06.\n",
            "Epoch 33 completed. Reconstructed Error is 0.06.\n",
            "Epoch 34 completed. Reconstructed Error is 0.06.\n",
            "Epoch 35 completed. Reconstructed Error is 0.06.\n",
            "Epoch 36 completed. Reconstructed Error is 0.06.\n",
            "Epoch 37 completed. Reconstructed Error is 0.06.\n",
            "Epoch 38 completed. Reconstructed Error is 0.06.\n",
            "Epoch 39 completed. Reconstructed Error is 0.06.\n",
            "Epoch 40 completed. Reconstructed Error is 0.06.\n",
            "Epoch 41 completed. Reconstructed Error is 0.06.\n",
            "Epoch 42 completed. Reconstructed Error is 0.05.\n",
            "Epoch 43 completed. Reconstructed Error is 0.05.\n",
            "Epoch 44 completed. Reconstructed Error is 0.05.\n",
            "Epoch 45 completed. Reconstructed Error is 0.05.\n",
            "Epoch 46 completed. Reconstructed Error is 0.05.\n",
            "Epoch 47 completed. Reconstructed Error is 0.05.\n",
            "Epoch 48 completed. Reconstructed Error is 0.05.\n",
            "Epoch 49 completed. Reconstructed Error is 0.05.\n",
            "Epoch 50 completed. Reconstructed Error is 0.05.\n",
            "Epoch 1 completed. Reconstructed Error is 0.19.\n",
            "Epoch 2 completed. Reconstructed Error is 0.18.\n",
            "Epoch 3 completed. Reconstructed Error is 0.16.\n",
            "Epoch 4 completed. Reconstructed Error is 0.14.\n",
            "Epoch 5 completed. Reconstructed Error is 0.13.\n",
            "Epoch 6 completed. Reconstructed Error is 0.12.\n",
            "Epoch 7 completed. Reconstructed Error is 0.11.\n",
            "Epoch 8 completed. Reconstructed Error is 0.11.\n",
            "Epoch 9 completed. Reconstructed Error is 0.10.\n",
            "Epoch 10 completed. Reconstructed Error is 0.10.\n",
            "Epoch 11 completed. Reconstructed Error is 0.09.\n",
            "Epoch 12 completed. Reconstructed Error is 0.09.\n",
            "Epoch 13 completed. Reconstructed Error is 0.09.\n",
            "Epoch 14 completed. Reconstructed Error is 0.09.\n",
            "Epoch 15 completed. Reconstructed Error is 0.08.\n",
            "Epoch 16 completed. Reconstructed Error is 0.08.\n",
            "Epoch 17 completed. Reconstructed Error is 0.08.\n",
            "Epoch 18 completed. Reconstructed Error is 0.08.\n",
            "Epoch 19 completed. Reconstructed Error is 0.08.\n",
            "Epoch 20 completed. Reconstructed Error is 0.08.\n",
            "Epoch 21 completed. Reconstructed Error is 0.08.\n",
            "Epoch 22 completed. Reconstructed Error is 0.07.\n",
            "Epoch 23 completed. Reconstructed Error is 0.07.\n",
            "Epoch 24 completed. Reconstructed Error is 0.07.\n",
            "Epoch 25 completed. Reconstructed Error is 0.07.\n",
            "Epoch 26 completed. Reconstructed Error is 0.07.\n",
            "Epoch 27 completed. Reconstructed Error is 0.07.\n",
            "Epoch 28 completed. Reconstructed Error is 0.07.\n",
            "Epoch 29 completed. Reconstructed Error is 0.07.\n",
            "Epoch 30 completed. Reconstructed Error is 0.07.\n",
            "Epoch 31 completed. Reconstructed Error is 0.06.\n",
            "Epoch 32 completed. Reconstructed Error is 0.06.\n",
            "Epoch 33 completed. Reconstructed Error is 0.06.\n",
            "Epoch 34 completed. Reconstructed Error is 0.06.\n",
            "Epoch 35 completed. Reconstructed Error is 0.06.\n",
            "Epoch 36 completed. Reconstructed Error is 0.06.\n",
            "Epoch 37 completed. Reconstructed Error is 0.06.\n",
            "Epoch 38 completed. Reconstructed Error is 0.06.\n",
            "Epoch 39 completed. Reconstructed Error is 0.06.\n",
            "Epoch 40 completed. Reconstructed Error is 0.06.\n",
            "Epoch 41 completed. Reconstructed Error is 0.06.\n",
            "Epoch 42 completed. Reconstructed Error is 0.05.\n",
            "Epoch 43 completed. Reconstructed Error is 0.05.\n",
            "Epoch 44 completed. Reconstructed Error is 0.05.\n",
            "Epoch 45 completed. Reconstructed Error is 0.05.\n",
            "Epoch 46 completed. Reconstructed Error is 0.05.\n",
            "Epoch 47 completed. Reconstructed Error is 0.05.\n",
            "Epoch 48 completed. Reconstructed Error is 0.05.\n",
            "Epoch 49 completed. Reconstructed Error is 0.05.\n",
            "Epoch 50 completed. Reconstructed Error is 0.05.\n"
          ],
          "name": "stdout"
        }
      ]
    },
    {
      "cell_type": "code",
      "metadata": {
        "id": "vm_GCzuNPudF"
      },
      "source": [
        "nb_iter_gibbs, nb_images = 1000, 2\n",
        "img_DNN = generer_images_DBN(trained_DNN, nb_iter_gibbs, nb_images)"
      ],
      "execution_count": null,
      "outputs": []
    },
    {
      "cell_type": "code",
      "metadata": {
        "colab": {
          "base_uri": "https://localhost:8080/",
          "height": 1000
        },
        "id": "GtDJMU81b7OD",
        "scrolled": false,
        "outputId": "3ef7d374-58fb-4061-b6d3-8b71f2184791"
      },
      "source": [
        "for i in range(nb_images):\n",
        "    afficher_image(img_DNN[i].reshape(20,16))"
      ],
      "execution_count": null,
      "outputs": [
        {
          "output_type": "display_data",
          "data": {
            "image/png": "[encoded data removed]",
            "text/plain": [
              "<Figure size 432x288 with 1 Axes>"
            ]
          },
          "metadata": {
            "tags": [],
            "needs_background": "light"
          }
        },
        {
          "output_type": "display_data",
          "data": {
            "image/png": "[encoded data removed]",
            "text/plain": [
              "<Figure size 432x288 with 1 Axes>"
            ]
          },
          "metadata": {
            "tags": [],
            "needs_background": "light"
          }
        }
      ]
    },
    {
      "cell_type": "markdown",
      "metadata": {
        "id": "EJYsF6TiEpCz"
      },
      "source": [
        "### Divide input data in m batches"
      ]
    },
    {
      "cell_type": "markdown",
      "metadata": {
        "id": "LGlV-gMMj7-t"
      },
      "source": [
        "We will compute to functions that can be used to divide our datasets in batches. In the second one we shuffled and randomly pick elements to create batches of the inputs whereas the first functions just loops by the batch_size."
      ]
    },
    {
      "cell_type": "code",
      "metadata": {
        "id": "O77RmAlEiuh8"
      },
      "source": [
        "def get_batches_first_example(X, label, batch_size):\n",
        "  X_batches, label_batches = [], []\n",
        "  for i in range(0, X.shape[0], batch_size):\n",
        "    X_batches.append(X[i:i + batch_size])\n",
        "    label_batches.append(label[i:i + batch_size])\n",
        "  return X_batches, label_batches"
      ],
      "execution_count": null,
      "outputs": []
    },
    {
      "cell_type": "markdown",
      "metadata": {
        "id": "NWFzYFPyjfwT"
      },
      "source": [
        "Second approach\n"
      ]
    },
    {
      "cell_type": "code",
      "metadata": {
        "id": "dYebiGBOB9xE"
      },
      "source": [
        "def get_batches_second_example(x, x_labels, batch_size):\n",
        "  np.random.seed()\n",
        "  n = len(x)\n",
        "  nb_batches = n//batch_size\n",
        "  permutations = list(np.random.permutation(n))\n",
        "  x_shuffled = x[permutations, :]\n",
        "  x_labels_shuffled = x_labels[permutations, :]\n",
        "  x_mini_batches = []\n",
        "  x_labels_mini_batches = []\n",
        "  for k in range(nb_batches):\n",
        "    x_mini_batch = x_shuffled[batch_size * k : (batch_size * (k + 1)), :]\n",
        "    x_labels_mini_batch = x_labels_shuffled[batch_size * k : (batch_size * (k + 1)), :]\n",
        "    x_mini_batches.append(x_mini_batch)\n",
        "    x_labels_mini_batches.append(x_labels_mini_batch)\n",
        "  if n%batch_size != 0 :\n",
        "    x_mini_batch = x_shuffled[batch_size * nb_batches :, :]\n",
        "    x_labels_mini_batch = x_labels_shuffled[batch_size * nb_batches :, :]\n",
        "    x_mini_batches.append(x_mini_batch)\n",
        "    x_labels_mini_batches.append(x_labels_mini_batch)\n",
        "  return x_mini_batches, x_labels_mini_batches"
      ],
      "execution_count": null,
      "outputs": []
    },
    {
      "cell_type": "markdown",
      "metadata": {
        "id": "3nvm_MpUqLy4"
      },
      "source": [
        "### Fonction softmax\n",
        "\n",
        "The **calcul_softmax** function takes as argument an RBM, input data and returns probabilities on the output units.\n"
      ]
    },
    {
      "cell_type": "markdown",
      "metadata": {
        "id": "0Lgos9nYqybi"
      },
      "source": [
        "The formula of the softmax function $\\sigma(x)$ for a vector\n",
        "$x=\\left\\{x_{0}, x_{1}, \\ldots, x_{n-1}\\right\\}$ is\n",
        "$$\n",
        "\\sigma(x)_{j}=\\frac{e^{x_{j}}}{\\sum_{k} e^{x_{k}}}\n",
        "$$"
      ]
    },
    {
      "cell_type": "code",
      "metadata": {
        "id": "Hg3rD_kwB7DH"
      },
      "source": [
        "def calcul_softmax(rbm, X):\n",
        "  return (np.exp(rbm.b + np.dot(X, rbm.w)).T / np.sum(np.exp(rbm.b + np.dot(X, rbm.w)),axis=1)).T"
      ],
      "execution_count": null,
      "outputs": []
    },
    {
      "cell_type": "code",
      "metadata": {
        "colab": {
          "base_uri": "https://localhost:8080/"
        },
        "id": "eEeGFVOc6ag1",
        "outputId": "2a9696f6-ceed-482d-c93c-3f1c1bac8d04"
      },
      "source": [
        "calcul_softmax(birdi, X)"
      ],
      "execution_count": null,
      "outputs": [
        {
          "output_type": "execute_result",
          "data": {
            "text/plain": [
              "array([[4.28575371e-03, 4.00892105e-04, 2.83838295e-05, ...,\n",
              "        1.17635261e-04, 1.59690663e-03, 8.48505417e-04],\n",
              "       [1.63388774e-03, 4.49265181e-04, 1.65077437e-04, ...,\n",
              "        1.87608270e-05, 8.63938687e-04, 1.14797167e-03],\n",
              "       [5.84403305e-05, 4.16711303e-05, 5.77220770e-04, ...,\n",
              "        1.52531929e-03, 1.67164739e-03, 6.84428738e-04],\n",
              "       ...,\n",
              "       [6.18281264e-04, 1.16458424e-03, 1.42272844e-03, ...,\n",
              "        4.89487440e-05, 4.93329985e-03, 1.43291863e-03],\n",
              "       [6.72501916e-04, 4.14641685e-04, 2.08477604e-03, ...,\n",
              "        1.05676594e-03, 2.52404737e-03, 5.40222546e-04],\n",
              "       [3.47862196e-03, 5.06606814e-06, 4.15330680e-06, ...,\n",
              "        2.32778494e-04, 1.62158314e-03, 4.82251902e-04]])"
            ]
          },
          "metadata": {
            "tags": []
          },
          "execution_count": 26
        }
      ]
    },
    {
      "cell_type": "markdown",
      "metadata": {
        "id": "g7jijdiJx1Gs"
      },
      "source": [
        "### Entree sortie reseau\n",
        "\n",
        "This function takes as argument a DNN and input data and returns the outputs on each hidden layer of the network as well as the output units' probabilities."
      ]
    },
    {
      "cell_type": "code",
      "metadata": {
        "id": "NS7yx7D7x0RT"
      },
      "source": [
        "def entree_sortie_reseau(dnn, X):\n",
        "  hidden_layers_output = [X]\n",
        "  #First hidden layer output\n",
        "  hidden_layers_output.append(dnn[0].entree_sortie_RBM(X))\n",
        "  for i in range(1, len(dnn)-1):\n",
        "    layer_k_ = dnn[i].entree_sortie_RBM(hidden_layers_output[-1])\n",
        "    hidden_layers_output.append(layer_k_)\n",
        "  proba = calcul_softmax(dnn[-1], hidden_layers_output[-1])\n",
        "  return hidden_layers_output, proba"
      ],
      "execution_count": null,
      "outputs": []
    },
    {
      "cell_type": "markdown",
      "metadata": {
        "id": "-KV6fmoo7viy"
      },
      "source": [
        "### Rétropropagation\n",
        "\n",
        "In this section, we compute the backpropagation algorithm used to train our neural networks. Function ***backpropagation()*** takes as argument a DNN, the number of iterations of the gradient descent, the learning rate, the batchsize, input data and their label."
      ]
    },
    {
      "cell_type": "code",
      "metadata": {
        "id": "eJORYI0O7XYp"
      },
      "source": [
        "from sklearn.metrics import log_loss\n",
        "\n",
        "def backpropagation(dnn, epochs, learning_rate, batch_size, X, label):\n",
        "  \n",
        "  #get batches \n",
        "  X_batches, label_batches = get_batches_second_example(X, label, batch_size)\n",
        "\n",
        "  nb_batches = len(X_batches)\n",
        "  cross_entropy = []\n",
        "  for epoch in range(epochs):\n",
        "    cross_entropy_epoch = 0\n",
        "    for i in range(nb_batches):\n",
        "      delta_W = []\n",
        "      delta_bias = []\n",
        "      hidden_layers, Y = entree_sortie_reseau(dnn, X_batches[i])\n",
        "      Y_lab = label_batches[i]\n",
        "      cross_entropy_epoch += log_loss(Y_lab, Y)\n",
        "      C = Y - Y_lab\n",
        "      delta_W.append(np.dot(hidden_layers[-1].T, C))\n",
        "      delta_bias.append(np.sum(C, axis=0))\n",
        "\n",
        "      for k in range(len(dnn) - 2, -1, -1):\n",
        "        C = np.dot(C, dnn[k+1].w.T)*hidden_layers[k+1]*(1-hidden_layers[k+1])\n",
        "        delta_W.append(np.dot(hidden_layers[k].T, C))\n",
        "        delta_bias.append(np.sum(C, axis=0))\n",
        "\n",
        "      delta_W.reverse()    \n",
        "      delta_bias.reverse()\n",
        "      \n",
        "      #Update weights and bias\n",
        "\n",
        "      for j in range(len(dnn)):\n",
        "        dnn[j].w -= (learning_rate/len(X_batches[i]))*delta_W[j]\n",
        "        dnn[j].b -= (learning_rate/len(X_batches[i]))*delta_bias[j]  \n",
        "\n",
        "    cross_entropy.append(cross_entropy_epoch/nb_batches)  \n",
        "  return dnn, cross_entropy"
      ],
      "execution_count": null,
      "outputs": []
    },
    {
      "cell_type": "markdown",
      "metadata": {
        "id": "gSYzh2IqKKeG"
      },
      "source": [
        "In the following cells, we test the backpropagation algorithm with a pretrained DNN : 2 hidden layers of 200 neurons. We plot the cross entropy as a function of epochs and see if it converge and compute the error rate. "
      ]
    },
    {
      "cell_type": "code",
      "metadata": {
        "id": "TKm0IfhU9Qx7"
      },
      "source": [
        "#Pretain and train DNN\n",
        "%%capture\n",
        "DNN = DBN([784,200,200,10]).pretrain_DNN(X_train, 0.1, 100, 128)\n",
        "DNN_back, entropy = backpropagation(DNN, 200, 0.1, 128, X_train, y_train)"
      ],
      "execution_count": null,
      "outputs": []
    },
    {
      "cell_type": "markdown",
      "metadata": {
        "id": "DonSqTamKKeH"
      },
      "source": [
        "Plot the cross entropy"
      ]
    },
    {
      "cell_type": "code",
      "metadata": {
        "id": "PaULr9PL_Mk7",
        "outputId": "ad768891-180f-473c-a3c2-50efe67e66e9"
      },
      "source": [
        "plt.figure(figsize=(12,6), dpi=85)\n",
        "plt.plot([i for i in range(200)], entropy, label='Entropy')\n",
        "plt.title(\"Cross entropy as a function of epochs\")\n",
        "plt.xlabel('Epochs')\n",
        "plt.ylabel('Cross entropy')\n",
        "plt.legend()\n",
        "plt.show()"
      ],
      "execution_count": null,
      "outputs": [
        {
          "output_type": "display_data",
          "data": {
            "image/png": "[encoded data removed]",
            "text/plain": [
              "<Figure size 1020x510 with 1 Axes>"
            ]
          },
          "metadata": {
            "tags": []
          }
        }
      ]
    },
    {
      "cell_type": "markdown",
      "metadata": {
        "id": "IHyA3tpKpepu"
      },
      "source": [
        "### Test DNN"
      ]
    },
    {
      "cell_type": "markdown",
      "metadata": {
        "id": "57LBKlNTKKeI"
      },
      "source": [
        "This function computes the classification error rate. It takes in a DNN, input data et its corresponding labels as arguments. It will help us assess the performance of our neural networks and compare them. "
      ]
    },
    {
      "cell_type": "code",
      "metadata": {
        "id": "Zwq2bnj4TCN5"
      },
      "source": [
        "def test_DNN(DNN_pretrained, x_test, labels):\n",
        "  error_rate = 0\n",
        "  output = entree_sortie_reseau(DNN_pretrained, x_test)[1]\n",
        "  estimated_labels = np.argmax(output, axis=1)\n",
        "  true_labels = np.argmax(labels, axis=1)\n",
        "  for i in range(len(true_labels)):\n",
        "    if estimated_labels[i] != true_labels[i]:\n",
        "      error_rate += 1\n",
        "  return error_rate/len(true_labels)"
      ],
      "execution_count": null,
      "outputs": []
    },
    {
      "cell_type": "markdown",
      "metadata": {
        "id": "MFHWhuI7KKeI"
      },
      "source": [
        "For the previous example, we compute the classification error rate with test_DNN"
      ]
    },
    {
      "cell_type": "code",
      "metadata": {
        "id": "TmzhOOfA3_xr",
        "outputId": "047dcc9f-8618-44b0-edeb-2651c6eedcbd"
      },
      "source": [
        "test_DNN(DNN_back, X_test, y_test)"
      ],
      "execution_count": null,
      "outputs": [
        {
          "output_type": "execute_result",
          "data": {
            "text/plain": [
              "0.0247"
            ]
          },
          "metadata": {
            "tags": []
          },
          "execution_count": 77
        }
      ]
    },
    {
      "cell_type": "markdown",
      "metadata": {
        "id": "bT9zISGElOhe"
      },
      "source": [
        "### <font color=darkred size=6 > Compare the performance of a pretrain DNN and an unpretrained DNN </font>"
      ]
    },
    {
      "cell_type": "markdown",
      "metadata": {
        "id": "kIl_dToNXM2M"
      },
      "source": [
        "In this section, we will analyze the performance of two Deep Neural Networks on MNIST dataset. The first DNN is pretrained and second one is randomly initialized network. We will follow the following steps :\n",
        "\n",
        "* Initialize the two networks\n",
        "* Pretrained one the networks by considering it as stacked RBMs\n",
        "* Learn the pretrained DNN with the backpropagation algorithm\n",
        "* Learn the unpretrained DNN with the backpropagation algorithm\n",
        "* Compute the error rate for both networks\n"
      ]
    },
    {
      "cell_type": "markdown",
      "metadata": {
        "id": "g7SCImh4b39Z"
      },
      "source": [
        "#### <font  size=5 > Error rates as a function of the number of hidden layers </font>"
      ]
    },
    {
      "cell_type": "markdown",
      "metadata": {
        "id": "efbzzCKVKKeJ"
      },
      "source": [
        "First, we compared the performance of the pre-trained neural network and the randomly initialized neural network, based on the number of layers and setting the number of neurons per layer at 200. "
      ]
    },
    {
      "cell_type": "code",
      "metadata": {
        "colab": {
          "base_uri": "https://localhost:8080/"
        },
        "id": "pOPtgTnpd77X",
        "scrolled": true,
        "outputId": "537ca954-daed-4841-c959-b6641b32c0fa"
      },
      "source": [
        "epoch_back = 200\n",
        "epoch_pretrain = 100\n",
        "lr = 0.1\n",
        "batch = 120\n",
        "layers = [[784,200,200,10], [784,200,200,200,10], [784,200,200, 200, 200, 10], [784, 200, 200, 200, 200, 200,10]]\n",
        "#error rate for untrained DNN\n",
        "error_untrained_1 = []   \n",
        "#Pre-trained DNN error rate\n",
        "error_pretrained_1 = []           \n",
        "\n",
        "for l in tqdm(layers):\n",
        "  #Untrained DNN\n",
        "  DNN_1_untrained = DBN(l).rbm_layers\n",
        "  DNN_1_untrained_backprop = backpropagation(DNN_1_untrained, epoch_back, lr, batch, X_train, y_train)[0]\n",
        "  error_untrained_1.append(test_DNN(DNN_1_untrained_backprop, X_test, y_test))\n",
        "\n",
        "  #Pretrained DNN\n",
        "  DNN_1_pretrained = DBN(l).pretrain_DNN(X_train,lr, epoch_pretrain, batch)\n",
        "  DNN_1_pretrained_backprop = backpropagation(DNN_1_pretrained, epoch_back, lr, batch, X_train, y_train)[0]\n",
        "  error_pretrained_1.append(test_DNN(DNN_1_pretrained_backprop, X_test, y_test))"
      ],
      "execution_count": null,
      "outputs": [
        {
          "output_type": "stream",
          "text": [
            "100%|██████████| 4/4 [3:27:39<00:00, 3114.94s/it]  \n"
          ],
          "name": "stderr"
        }
      ]
    },
    {
      "cell_type": "code",
      "metadata": {
        "id": "tBmGhJd6KKeK",
        "outputId": "abd8b963-66f0-48f6-8e58-64f0ed6757a8"
      },
      "source": [
        "errors_1 = {'Unpretrained' : error_untrained_1, 'Pretrained' : error_pretrained_1}\n",
        "df_errors_1 = pd.DataFrame(errors_1)\n",
        "df_errors_1"
      ],
      "execution_count": null,
      "outputs": [
        {
          "output_type": "execute_result",
          "data": {
            "text/html": [
              "<div>\n",
              "<style scoped>\n",
              "    .dataframe tbody tr th:only-of-type {\n",
              "        vertical-align: middle;\n",
              "    }\n",
              "\n",
              "    .dataframe tbody tr th {\n",
              "        vertical-align: top;\n",
              "    }\n",
              "\n",
              "    .dataframe thead th {\n",
              "        text-align: right;\n",
              "    }\n",
              "</style>\n",
              "<table border=\"1\" class=\"dataframe\">\n",
              "  <thead>\n",
              "    <tr style=\"text-align: right;\">\n",
              "      <th></th>\n",
              "      <th>Unpretrained</th>\n",
              "      <th>Pretrained</th>\n",
              "    </tr>\n",
              "  </thead>\n",
              "  <tbody>\n",
              "    <tr>\n",
              "      <th>0</th>\n",
              "      <td>0.0255</td>\n",
              "      <td>0.0274</td>\n",
              "    </tr>\n",
              "    <tr>\n",
              "      <th>1</th>\n",
              "      <td>0.0277</td>\n",
              "      <td>0.0275</td>\n",
              "    </tr>\n",
              "    <tr>\n",
              "      <th>2</th>\n",
              "      <td>0.0313</td>\n",
              "      <td>0.0281</td>\n",
              "    </tr>\n",
              "    <tr>\n",
              "      <th>3</th>\n",
              "      <td>0.0329</td>\n",
              "      <td>0.0295</td>\n",
              "    </tr>\n",
              "  </tbody>\n",
              "</table>\n",
              "</div>"
            ],
            "text/plain": [
              "   Unpretrained  Pretrained\n",
              "0        0.0255      0.0274\n",
              "1        0.0277      0.0275\n",
              "2        0.0313      0.0281\n",
              "3        0.0329      0.0295"
            ]
          },
          "metadata": {
            "tags": []
          },
          "execution_count": 47
        }
      ]
    },
    {
      "cell_type": "markdown",
      "metadata": {
        "id": "mzOUT7NoKKeK"
      },
      "source": [
        "###### <font color=darkred size=4 > Figure 1 </font>"
      ]
    },
    {
      "cell_type": "code",
      "metadata": {
        "colab": {
          "base_uri": "https://localhost:8080/",
          "height": 464
        },
        "id": "y705acOGoneC",
        "outputId": "63a617be-794b-4af0-d9d5-6dc45ce73617"
      },
      "source": [
        "plt.figure(figsize=(12,6), dpi=85)\n",
        "plt.plot([str(i) + '*' + '200' for i in range(2,6)], error_untrained_1, label='Unpretrained_DNN')\n",
        "plt.plot([str(i) + '*' + '200' for i in range(2,6)], error_pretrained_1, label='Pre-trained_DNN')\n",
        "plt.title(\"Error rate as a function of the number of hidden layers\")\n",
        "plt.xlabel('Hidden layers')\n",
        "plt.ylabel('Classification error rate')\n",
        "plt.legend()\n",
        "plt.show()"
      ],
      "execution_count": null,
      "outputs": [
        {
          "output_type": "display_data",
          "data": {
            "image/png": "[encoded data removed]",
            "text/plain": [
              "<Figure size 1020x510 with 1 Axes>"
            ]
          },
          "metadata": {
            "tags": []
          }
        }
      ]
    },
    {
      "cell_type": "markdown",
      "metadata": {
        "id": "DZQYulv1KKeL"
      },
      "source": [
        "We can see that the lowest classification error is obtained with the pre-trained neural network. \n",
        "Moreover, for both models, when starting with 2 hidden layers, the addition of hidden layers does not provide us with better performances."
      ]
    },
    {
      "cell_type": "markdown",
      "metadata": {
        "id": "T6l71MY_e1Is"
      },
      "source": [
        "#### <font  size=5 > Error rates as a function of the number of neurons </font>"
      ]
    },
    {
      "cell_type": "markdown",
      "metadata": {
        "id": "99ntq1BtKKeL"
      },
      "source": [
        "In this section, we compared the performance of the pre-trained neural network and the randomly initialized neural network, according to the number of neurons on the hidden layers. We set the number of the latter to two."
      ]
    },
    {
      "cell_type": "code",
      "metadata": {
        "id": "plsWNBJVWYnJ",
        "outputId": "29e09aeb-e9f9-4c8c-ed20-a810ad7edb1a"
      },
      "source": [
        "epoch_back = 200\n",
        "epoch_pretrain = 100\n",
        "lr = 0.1\n",
        "batch = 120\n",
        "n_layers = [[784,100,100,10], [784,300,300,10], [784,500,500, 10], [784, 700,700, 10]]\n",
        "#error rate for untrained DNN\n",
        "error_unpretrained_2 = []   \n",
        "#Pre-trained DNN error rate\n",
        "error_pretrained_2 = []           \n",
        "\n",
        "for l in tqdm(n_layers):\n",
        "  #Untrained DNN\n",
        "  DNN_2_untrained = DBN(l).rbm_layers\n",
        "  DNN_2_untrained_backprop = backpropagation(DNN_2_untrained, epoch_back, lr, batch, X_train, y_train)[0]\n",
        "  error_unpretrained_2.append(test_DNN(DNN_2_untrained_backprop, X_test, y_test))\n",
        "\n",
        "  #Pretrained DNN\n",
        "  DNN_2_pretrained = DBN(l).pretrain_DNN(X_train, lr, epoch_pretrain, batch)\n",
        "  DNN_2_pretrained_backprop = backpropagation(DNN_2_pretrained, epoch_back, lr, batch, X_train, y_train)[0]\n",
        "  error_pretrained_2.append(test_DNN(DNN_2_pretrained_backprop, X_test, y_test))"
      ],
      "execution_count": null,
      "outputs": [
        {
          "output_type": "stream",
          "text": [
            "100%|██████████| 4/4 [6:33:21<00:00, 5900.37s/it]  \n"
          ],
          "name": "stderr"
        }
      ]
    },
    {
      "cell_type": "code",
      "metadata": {
        "id": "soXsaw6jKKeL",
        "outputId": "e22803ad-ad4f-4369-9f81-bf857ab55c2d"
      },
      "source": [
        "errors = {'Unpretrained' : error_unpretrained_2, 'Pretrained' : error_pretrained_2}\n",
        "df_errors = pd.DataFrame(errors)\n",
        "df_errors"
      ],
      "execution_count": null,
      "outputs": [
        {
          "output_type": "execute_result",
          "data": {
            "text/html": [
              "<div>\n",
              "<style scoped>\n",
              "    .dataframe tbody tr th:only-of-type {\n",
              "        vertical-align: middle;\n",
              "    }\n",
              "\n",
              "    .dataframe tbody tr th {\n",
              "        vertical-align: top;\n",
              "    }\n",
              "\n",
              "    .dataframe thead th {\n",
              "        text-align: right;\n",
              "    }\n",
              "</style>\n",
              "<table border=\"1\" class=\"dataframe\">\n",
              "  <thead>\n",
              "    <tr style=\"text-align: right;\">\n",
              "      <th></th>\n",
              "      <th>Unpretrained</th>\n",
              "      <th>Pretrained</th>\n",
              "    </tr>\n",
              "  </thead>\n",
              "  <tbody>\n",
              "    <tr>\n",
              "      <th>0</th>\n",
              "      <td>0.0277</td>\n",
              "      <td>0.0317</td>\n",
              "    </tr>\n",
              "    <tr>\n",
              "      <th>1</th>\n",
              "      <td>0.0241</td>\n",
              "      <td>0.0229</td>\n",
              "    </tr>\n",
              "    <tr>\n",
              "      <th>2</th>\n",
              "      <td>0.0242</td>\n",
              "      <td>0.0209</td>\n",
              "    </tr>\n",
              "    <tr>\n",
              "      <th>3</th>\n",
              "      <td>0.0241</td>\n",
              "      <td>0.0200</td>\n",
              "    </tr>\n",
              "  </tbody>\n",
              "</table>\n",
              "</div>"
            ],
            "text/plain": [
              "   Unpretrained  Pretrained\n",
              "0        0.0277      0.0317\n",
              "1        0.0241      0.0229\n",
              "2        0.0242      0.0209\n",
              "3        0.0241      0.0200"
            ]
          },
          "metadata": {
            "tags": []
          },
          "execution_count": 45
        }
      ]
    },
    {
      "cell_type": "markdown",
      "metadata": {
        "id": "htgdltRfKKeM"
      },
      "source": [
        "###### <font color=darkred size=4 > Figure 2 </font>"
      ]
    },
    {
      "cell_type": "code",
      "metadata": {
        "id": "0YlMQdlGKKeM",
        "outputId": "f5019e46-2289-453b-e4f4-5bf7adaaa7da"
      },
      "source": [
        "plt.figure(figsize=(12,6), dpi=85)\n",
        "plt.plot([str(2) + '*' + str(100*i) for i in range(1,8,2)], error_unpretrained_2, label='Un-pretrained_DNN')\n",
        "plt.plot([str(2) + '*' + str(100*i) for i in range(1,8,2)], error_pretrained_2, label='Pre-trained_DNN')\n",
        "plt.title(\"Error rates as a function of the number of neurons \")\n",
        "plt.xlabel('Number of neurons per layer')\n",
        "plt.ylabel('Classification error rate')\n",
        "plt.legend()\n",
        "plt.show()"
      ],
      "execution_count": null,
      "outputs": [
        {
          "output_type": "display_data",
          "data": {
            "image/png": "[encoded data removed]",
            "text/plain": [
              "<Figure size 1020x510 with 1 Axes>"
            ]
          },
          "metadata": {
            "tags": []
          }
        }
      ]
    },
    {
      "cell_type": "markdown",
      "metadata": {
        "id": "tNJvxi0HKKeM"
      },
      "source": [
        "It can be seen that here too, as in the previous figure, the non-pre-trained DNN is less efficient than the pre-trained DNN. The performance of the latter increases with the number of neurons in the hidden layers."
      ]
    },
    {
      "cell_type": "markdown",
      "metadata": {
        "id": "aKk5tBHTKKeM"
      },
      "source": [
        " #### <font  size=5 > Error rates as a function of input data dimension </font>"
      ]
    },
    {
      "cell_type": "markdown",
      "metadata": {
        "id": "dw--UIsOKKeM"
      },
      "source": [
        "Finally, we compare the performance of the pre-trained neural network and the randomly initialized network, based on the number of training data and keeping two hidden layers of 200 neurons in each."
      ]
    },
    {
      "cell_type": "code",
      "metadata": {
        "id": "7Kq69xW5KKeM",
        "outputId": "628906a5-f0b7-47e2-ada8-d7515e7977ca"
      },
      "source": [
        "epoch_back = 200\n",
        "epoch_pretrain = 100\n",
        "lr = 0.1\n",
        "batch = 120\n",
        "input_dimension = [1000, 3000, 7000, 10000, 30000, 60000]\n",
        "layers = [784,700,700,10]\n",
        "#error rate for untrained DNN\n",
        "error_unpretrained_3 = []   \n",
        "#Pre-trained DNN error rate\n",
        "error_pretrained_3 = []           \n",
        "\n",
        "for dim in tqdm(input_dimension):\n",
        "  #Unpretrained DNN\n",
        "  DNN_3_untrained = DBN(layers).rbm_layers\n",
        "  DNN_3_untrained_backprop = backpropagation(DNN_3_untrained, epoch_back, lr, batch, X_train[:dim], y_train[:dim])[0]\n",
        "  error_unpretrained_3.append(test_DNN(DNN_3_untrained_backprop, X_test, y_test))\n",
        "\n",
        "  #Pretrained DNN\n",
        "  DNN_3_pretrained = DBN(layers).pretrain_DNN(X_train[:dim],lr, epoch_pretrain, batch)\n",
        "  DNN_3_pretrained_backprop = backpropagation(DNN_3_pretrained, epoch_back, lr, batch, X_train[:dim], y_train[:dim])[0]\n",
        "  error_pretrained_3.append(test_DNN(DNN_3_pretrained_backprop, X_test, y_test))"
      ],
      "execution_count": null,
      "outputs": [
        {
          "output_type": "stream",
          "text": [
            "100%|██████████| 6/6 [3:11:33<00:00, 1915.52s/it]\n"
          ],
          "name": "stderr"
        }
      ]
    },
    {
      "cell_type": "code",
      "metadata": {
        "id": "l6q1CZteKKeM",
        "outputId": "07005f7c-4bd1-4e2e-94e4-4323eaa18849"
      },
      "source": [
        "errors_3 = {'Unpretrained' : error_unpretrained_3, 'Pretrained' : error_pretrained_3}\n",
        "df_errors_3 = pd.DataFrame(errors_3)\n",
        "df_errors_3"
      ],
      "execution_count": null,
      "outputs": [
        {
          "output_type": "execute_result",
          "data": {
            "text/html": [
              "<div>\n",
              "<style scoped>\n",
              "    .dataframe tbody tr th:only-of-type {\n",
              "        vertical-align: middle;\n",
              "    }\n",
              "\n",
              "    .dataframe tbody tr th {\n",
              "        vertical-align: top;\n",
              "    }\n",
              "\n",
              "    .dataframe thead th {\n",
              "        text-align: right;\n",
              "    }\n",
              "</style>\n",
              "<table border=\"1\" class=\"dataframe\">\n",
              "  <thead>\n",
              "    <tr style=\"text-align: right;\">\n",
              "      <th></th>\n",
              "      <th>Unpretrained</th>\n",
              "      <th>Pretrained</th>\n",
              "    </tr>\n",
              "  </thead>\n",
              "  <tbody>\n",
              "    <tr>\n",
              "      <th>0</th>\n",
              "      <td>0.1446</td>\n",
              "      <td>0.1224</td>\n",
              "    </tr>\n",
              "    <tr>\n",
              "      <th>1</th>\n",
              "      <td>0.1170</td>\n",
              "      <td>0.0784</td>\n",
              "    </tr>\n",
              "    <tr>\n",
              "      <th>2</th>\n",
              "      <td>0.0900</td>\n",
              "      <td>0.0615</td>\n",
              "    </tr>\n",
              "    <tr>\n",
              "      <th>3</th>\n",
              "      <td>0.0771</td>\n",
              "      <td>0.0514</td>\n",
              "    </tr>\n",
              "    <tr>\n",
              "      <th>4</th>\n",
              "      <td>0.0342</td>\n",
              "      <td>0.0278</td>\n",
              "    </tr>\n",
              "    <tr>\n",
              "      <th>5</th>\n",
              "      <td>0.0261</td>\n",
              "      <td>0.0226</td>\n",
              "    </tr>\n",
              "  </tbody>\n",
              "</table>\n",
              "</div>"
            ],
            "text/plain": [
              "   Unpretrained  Pretrained\n",
              "0        0.1446      0.1224\n",
              "1        0.1170      0.0784\n",
              "2        0.0900      0.0615\n",
              "3        0.0771      0.0514\n",
              "4        0.0342      0.0278\n",
              "5        0.0261      0.0226"
            ]
          },
          "metadata": {
            "tags": []
          },
          "execution_count": 71
        }
      ]
    },
    {
      "cell_type": "markdown",
      "metadata": {
        "id": "2o9_p9K5KKeN"
      },
      "source": [
        "###### <font color=darkred size=4 > Figure 3 </font>"
      ]
    },
    {
      "cell_type": "code",
      "metadata": {
        "id": "6WJ-OjTEKKeN",
        "outputId": "c7b2767d-dfa3-4a84-b79c-71400c7b78e2"
      },
      "source": [
        "plt.figure(figsize=(12,6), dpi=85)\n",
        "plt.plot(input_dimension, error_unpretrained_3, label='Un-pretrained_DNN')\n",
        "plt.plot(input_dimension, error_pretrained_3, label='Pre-trained_DNN')\n",
        "plt.title(\"Error rates as a function of input data dimension\")\n",
        "plt.xlabel('Input data dimension')\n",
        "plt.ylabel('Classification error rate')\n",
        "plt.legend()\n",
        "plt.show()"
      ],
      "execution_count": null,
      "outputs": [
        {
          "output_type": "display_data",
          "data": {
            "image/png": "[encoded data removed]",
            "text/plain": [
              "<Figure size 1020x510 with 1 Axes>"
            ]
          },
          "metadata": {
            "tags": []
          }
        }
      ]
    },
    {
      "cell_type": "markdown",
      "metadata": {
        "id": "2aGkolzUKKeN"
      },
      "source": [
        "Up to now, the error rates we were getting with our two networks were no more than 0.05. However, when we train both networks on a low number of training data (<10000), we observe that the classification errors are up to 4 times greater than when we use all of our training data (or at least more than half of the train). It is therefore more judicious to train on the whole train database in order to have the best performances. \n"
      ]
    },
    {
      "cell_type": "markdown",
      "metadata": {
        "id": "0mahEhC8KKeN"
      },
      "source": [
        " #### <font  size=5 > Comparison of the two models with the same epochs </font>"
      ]
    },
    {
      "cell_type": "markdown",
      "metadata": {
        "id": "SovavTHRKKeN"
      },
      "source": [
        "In this section, we will try to set the same epoch for both pretrained and unpretrained networks. Indeed, in the above section, for our second model (pretrained DNN), backpropagation epoch was set to 200 and 100 for pretraining. So 300 epochs in total whereas for the second model, the number of epochs is 200 (backpropagation). Here we will try to have the same epoch and see and how the models perform. For both models epoch will be equal to 200 : 100 pretrain + 100 backpropagation for model 2 and 200 for backpropagation of model &."
      ]
    },
    {
      "cell_type": "code",
      "metadata": {
        "id": "qvbMDNjxKKeN",
        "outputId": "e632b810-9bc7-45c2-8195-34aa897cc29a"
      },
      "source": [
        "epoch_model_1 = 200\n",
        "epoch_pretrain = 100\n",
        "epoch_model_2 = 100\n",
        "lr = 0.1\n",
        "batch = 120\n",
        "input_dimension = [1000, 3000, 7000, 10000, 30000, 60000]\n",
        "layers = [784,700,700,10]\n",
        "#error rate for untrained DNN\n",
        "error_model_1 = []   \n",
        "#Pre-trained DNN error rate\n",
        "error_model_2 = []           \n",
        "\n",
        "for dim in tqdm(input_dimension):\n",
        "  #Unpretrained DNN\n",
        "  model_1 = DBN(layers).rbm_layers\n",
        "  model_1_back = backpropagation(model_1, epoch_model_1, lr, batch, X_train[:dim], y_train[:dim])[0]\n",
        "  error_model_1.append(test_DNN(model_1_back, X_test, y_test))\n",
        "\n",
        "  #Pretrained DNN\n",
        "  model_2 = DBN(layers).pretrain_DNN(X_train[:dim],lr, epoch_pretrain, batch)\n",
        "  model_2_back = backpropagation(model_2, epoch_model_2, lr, batch, X_train[:dim], y_train[:dim])[0]\n",
        "  error_model_2.append(test_DNN(model_2_back, X_test, y_test))"
      ],
      "execution_count": null,
      "outputs": [
        {
          "output_type": "stream",
          "text": [
            "100%|██████████| 6/6 [2:55:33<00:00, 1755.65s/it]\n"
          ],
          "name": "stderr"
        }
      ]
    },
    {
      "cell_type": "code",
      "metadata": {
        "id": "7KN_k7WBKKeO",
        "outputId": "c37b19e2-01fb-4e5b-a1ef-4af95a29a95e"
      },
      "source": [
        "pd.DataFrame({'Unpretrained' : error_model_1, 'Pretrained' : error_model_2})"
      ],
      "execution_count": null,
      "outputs": [
        {
          "output_type": "execute_result",
          "data": {
            "text/html": [
              "<div>\n",
              "<style scoped>\n",
              "    .dataframe tbody tr th:only-of-type {\n",
              "        vertical-align: middle;\n",
              "    }\n",
              "\n",
              "    .dataframe tbody tr th {\n",
              "        vertical-align: top;\n",
              "    }\n",
              "\n",
              "    .dataframe thead th {\n",
              "        text-align: right;\n",
              "    }\n",
              "</style>\n",
              "<table border=\"1\" class=\"dataframe\">\n",
              "  <thead>\n",
              "    <tr style=\"text-align: right;\">\n",
              "      <th></th>\n",
              "      <th>Unpretrained</th>\n",
              "      <th>Pretrained</th>\n",
              "    </tr>\n",
              "  </thead>\n",
              "  <tbody>\n",
              "    <tr>\n",
              "      <th>0</th>\n",
              "      <td>0.1475</td>\n",
              "      <td>0.1228</td>\n",
              "    </tr>\n",
              "    <tr>\n",
              "      <th>1</th>\n",
              "      <td>0.1150</td>\n",
              "      <td>0.0849</td>\n",
              "    </tr>\n",
              "    <tr>\n",
              "      <th>2</th>\n",
              "      <td>0.0903</td>\n",
              "      <td>0.0632</td>\n",
              "    </tr>\n",
              "    <tr>\n",
              "      <th>3</th>\n",
              "      <td>0.0765</td>\n",
              "      <td>0.0543</td>\n",
              "    </tr>\n",
              "    <tr>\n",
              "      <th>4</th>\n",
              "      <td>0.0351</td>\n",
              "      <td>0.0287</td>\n",
              "    </tr>\n",
              "    <tr>\n",
              "      <th>5</th>\n",
              "      <td>0.0245</td>\n",
              "      <td>0.0237</td>\n",
              "    </tr>\n",
              "  </tbody>\n",
              "</table>\n",
              "</div>"
            ],
            "text/plain": [
              "   Unpretrained  Pretrained\n",
              "0        0.1475      0.1228\n",
              "1        0.1150      0.0849\n",
              "2        0.0903      0.0632\n",
              "3        0.0765      0.0543\n",
              "4        0.0351      0.0287\n",
              "5        0.0245      0.0237"
            ]
          },
          "metadata": {
            "tags": []
          },
          "execution_count": 26
        }
      ]
    },
    {
      "cell_type": "markdown",
      "metadata": {
        "id": "MIeTIBGCKKeO"
      },
      "source": [
        "###### <font color=darkred size=4 > Figure 4 </font>"
      ]
    },
    {
      "cell_type": "code",
      "metadata": {
        "id": "bGuCyU0XKKeO",
        "outputId": "e6b51f13-4dc1-4403-a9e7-4c4d25dec89d"
      },
      "source": [
        "plt.figure(figsize=(12,6), dpi=85)\n",
        "plt.plot(input_dimension, error_model_1, label='Un-pretrained_DNN')\n",
        "plt.plot(input_dimension, error_model_2, label='Pre-trained_DNN')\n",
        "plt.title(\"Comparison of the two models with the same epochs\")\n",
        "plt.xlabel('Input data dimension')\n",
        "plt.ylabel('Classification error rate')\n",
        "plt.legend()\n",
        "plt.show()"
      ],
      "execution_count": null,
      "outputs": [
        {
          "output_type": "display_data",
          "data": {
            "image/png": "[encoded data removed]",
            "text/plain": [
              "<Figure size 1020x510 with 1 Axes>"
            ]
          },
          "metadata": {
            "tags": [],
            "needs_background": "light"
          }
        }
      ]
    },
    {
      "cell_type": "markdown",
      "metadata": {
        "id": "IxWrtyR-KKeO"
      },
      "source": [
        "###### <font color=darkred size=5 > Conclusion </font>"
      ]
    },
    {
      "cell_type": "markdown",
      "metadata": {
        "id": "b4y6KJDkKKeO"
      },
      "source": [
        "Setting the number of total epochs to be the same for our neural networks doesn't change the overall performance (Figure 3 vs Figure 4). It rather increases a bit some of the classification error rate. "
      ]
    },
    {
      "cell_type": "markdown",
      "metadata": {
        "id": "yQSal76KFnsA"
      },
      "source": [
        "#### <font  size=5 > Hyperparameters tuning </font>\n",
        "\n",
        "This section consists of hyperparameters tuning. We use DNN with 2 hiddens layers of 500 neurons. This is one of the architecture that provides the best classification error rate according to the previous graph. We therefore pretrain our DNN with the latter architecture and try to find the best parameters based on the classification error rates. Below the hyperparameters to tune:\n",
        "* Batch size : we have a list of different batch sizes\n",
        "* Learning rates\n",
        "\n",
        "We could have added a list of epochs and loop over it. "
      ]
    },
    {
      "cell_type": "code",
      "metadata": {
        "colab": {
          "base_uri": "https://localhost:8080/"
        },
        "id": "ilVfP9SkdNl6",
        "scrolled": false,
        "outputId": "d862b79d-742c-4f39-d9d4-f4350c1ebed7"
      },
      "source": [
        "epoch = 100\n",
        "learning_rate = [0.01, 0.05, 0.1, 0.5, 0.9]\n",
        "learning_rate.sort()\n",
        "batches = [50, 120, 500, 1000]\n",
        "all_params = {'Batch_size' : [], 'Learning_rate' : [], 'Classification_error' : []}\n",
        "best_params = {}\n",
        "best_params['lr'] = learning_rate[0]\n",
        "best_params['batches'] = batches[0]\n",
        "best_params['error'] = 1\n",
        "\n",
        "for batch in tqdm(batches):\n",
        "    print('')\n",
        "    print('Batch Size: {}'.format(batch))\n",
        "    for lr in learning_rate:\n",
        "        print('Learning Rate: {}'.format(lr))\n",
        "        print('Epochs: {}'.format(epoch))\n",
        "        init_DNN = DBN([784, 500, 500, 10]).pretrain_DNN(X_train, lr, epoch, batch)\n",
        "        back_propagate_DNN = backpropagation(init_DNN, epoch, lr, batch, X_train, y_train)[0]\n",
        "        error_rate = test_DNN(back_propagate_DNN, X_test, y_test)\n",
        "        #Store all parameters\n",
        "        all_params['Batch_size'].append(batch)\n",
        "        all_params['Classification_error'].append(error_rate)\n",
        "        all_params['Learning_rate'].append(lr)\n",
        "        #print the best parameters found based on classification error rate\n",
        "        if error_rate < best_params['error']:\n",
        "          best_params['error'] = error_rate\n",
        "          best_params['epoch'] = epoch\n",
        "          best_params['batches'] = batch\n",
        "          best_params['lr'] = lr\n",
        "          print('New optimal parameters')\n",
        "          print(pd.Series(best_params))\n",
        "          print('-------------------')"
      ],
      "execution_count": null,
      "outputs": [
        {
          "output_type": "stream",
          "text": [
            "\r  0%|          | 0/4 [00:00<?, ?it/s]"
          ],
          "name": "stderr"
        },
        {
          "output_type": "stream",
          "text": [
            "\n",
            "Batch Size: 50\n",
            "Learning Rate: 0.01\n",
            "Epochs: 100\n",
            "New optimal parameters\n",
            "lr           0.0100\n",
            "batches     50.0000\n",
            "error        0.0309\n",
            "epoch      100.0000\n",
            "dtype: float64\n",
            "-------------------\n",
            "Learning Rate: 0.05\n",
            "Epochs: 100\n",
            "New optimal parameters\n",
            "lr           0.0500\n",
            "batches     50.0000\n",
            "error        0.0248\n",
            "epoch      100.0000\n",
            "dtype: float64\n",
            "-------------------\n",
            "Learning Rate: 0.1\n",
            "Epochs: 100\n",
            "New optimal parameters\n",
            "lr           0.1000\n",
            "batches     50.0000\n",
            "error        0.0215\n",
            "epoch      100.0000\n",
            "dtype: float64\n",
            "-------------------\n",
            "Learning Rate: 0.5\n",
            "Epochs: 100\n",
            "Learning Rate: 0.9\n",
            "Epochs: 100\n"
          ],
          "name": "stdout"
        },
        {
          "output_type": "stream",
          "text": [
            "\r 25%|██▌       | 1/4 [6:52:50<20:38:30, 24770.05s/it]"
          ],
          "name": "stderr"
        },
        {
          "output_type": "stream",
          "text": [
            "\n",
            "Batch Size: 120\n",
            "Learning Rate: 0.01\n",
            "Epochs: 100\n",
            "Learning Rate: 0.05\n",
            "Epochs: 100\n",
            "Learning Rate: 0.1\n",
            "Epochs: 100\n",
            "Learning Rate: 0.5\n",
            "Epochs: 100\n",
            "Learning Rate: 0.9\n",
            "Epochs: 100\n"
          ],
          "name": "stdout"
        },
        {
          "output_type": "stream",
          "text": [
            "\r 50%|█████     | 2/4 [10:08:10<9:29:47, 17093.63s/it]"
          ],
          "name": "stderr"
        },
        {
          "output_type": "stream",
          "text": [
            "\n",
            "Batch Size: 500\n",
            "Learning Rate: 0.01\n",
            "Epochs: 100\n",
            "Learning Rate: 0.05\n",
            "Epochs: 100\n",
            "Learning Rate: 0.1\n",
            "Epochs: 100\n",
            "Learning Rate: 0.5\n",
            "Epochs: 100\n",
            "Learning Rate: 0.9\n",
            "Epochs: 100\n"
          ],
          "name": "stdout"
        },
        {
          "output_type": "stream",
          "text": [
            "\r 75%|███████▌  | 3/4 [13:31:56<4:07:51, 14871.17s/it]"
          ],
          "name": "stderr"
        },
        {
          "output_type": "stream",
          "text": [
            "\n",
            "Batch Size: 1000\n",
            "Learning Rate: 0.01\n",
            "Epochs: 100\n",
            "Learning Rate: 0.05\n",
            "Epochs: 100\n",
            "Learning Rate: 0.1\n",
            "Epochs: 100\n",
            "Learning Rate: 0.5\n",
            "Epochs: 100\n",
            "Learning Rate: 0.9\n",
            "Epochs: 100\n"
          ],
          "name": "stdout"
        },
        {
          "output_type": "stream",
          "text": [
            "100%|██████████| 4/4 [16:00:59<00:00, 14415.00s/it]  \n"
          ],
          "name": "stderr"
        }
      ]
    },
    {
      "cell_type": "code",
      "metadata": {
        "id": "JA8ZdxUJKKeP",
        "outputId": "d5a6cc40-a4e1-40fd-998f-d5d01d9bbe0e"
      },
      "source": [
        "df_all_params = pd.DataFrame(all_params)\n",
        "df_all_params"
      ],
      "execution_count": null,
      "outputs": [
        {
          "output_type": "execute_result",
          "data": {
            "text/html": [
              "<div>\n",
              "<style scoped>\n",
              "    .dataframe tbody tr th:only-of-type {\n",
              "        vertical-align: middle;\n",
              "    }\n",
              "\n",
              "    .dataframe tbody tr th {\n",
              "        vertical-align: top;\n",
              "    }\n",
              "\n",
              "    .dataframe thead th {\n",
              "        text-align: right;\n",
              "    }\n",
              "</style>\n",
              "<table border=\"1\" class=\"dataframe\">\n",
              "  <thead>\n",
              "    <tr style=\"text-align: right;\">\n",
              "      <th></th>\n",
              "      <th>Batch_size</th>\n",
              "      <th>Learning_rate</th>\n",
              "      <th>Classification_error</th>\n",
              "    </tr>\n",
              "  </thead>\n",
              "  <tbody>\n",
              "    <tr>\n",
              "      <th>0</th>\n",
              "      <td>50</td>\n",
              "      <td>0.01</td>\n",
              "      <td>0.0309</td>\n",
              "    </tr>\n",
              "    <tr>\n",
              "      <th>1</th>\n",
              "      <td>50</td>\n",
              "      <td>0.05</td>\n",
              "      <td>0.0248</td>\n",
              "    </tr>\n",
              "    <tr>\n",
              "      <th>2</th>\n",
              "      <td>50</td>\n",
              "      <td>0.10</td>\n",
              "      <td>0.0215</td>\n",
              "    </tr>\n",
              "    <tr>\n",
              "      <th>3</th>\n",
              "      <td>50</td>\n",
              "      <td>0.50</td>\n",
              "      <td>0.0225</td>\n",
              "    </tr>\n",
              "    <tr>\n",
              "      <th>4</th>\n",
              "      <td>50</td>\n",
              "      <td>0.90</td>\n",
              "      <td>0.0258</td>\n",
              "    </tr>\n",
              "    <tr>\n",
              "      <th>5</th>\n",
              "      <td>120</td>\n",
              "      <td>0.01</td>\n",
              "      <td>0.0419</td>\n",
              "    </tr>\n",
              "    <tr>\n",
              "      <th>6</th>\n",
              "      <td>120</td>\n",
              "      <td>0.05</td>\n",
              "      <td>0.0235</td>\n",
              "    </tr>\n",
              "    <tr>\n",
              "      <th>7</th>\n",
              "      <td>120</td>\n",
              "      <td>0.10</td>\n",
              "      <td>0.0224</td>\n",
              "    </tr>\n",
              "    <tr>\n",
              "      <th>8</th>\n",
              "      <td>120</td>\n",
              "      <td>0.50</td>\n",
              "      <td>0.0218</td>\n",
              "    </tr>\n",
              "    <tr>\n",
              "      <th>9</th>\n",
              "      <td>120</td>\n",
              "      <td>0.90</td>\n",
              "      <td>0.0297</td>\n",
              "    </tr>\n",
              "    <tr>\n",
              "      <th>10</th>\n",
              "      <td>500</td>\n",
              "      <td>0.01</td>\n",
              "      <td>0.0668</td>\n",
              "    </tr>\n",
              "    <tr>\n",
              "      <th>11</th>\n",
              "      <td>500</td>\n",
              "      <td>0.05</td>\n",
              "      <td>0.0377</td>\n",
              "    </tr>\n",
              "    <tr>\n",
              "      <th>12</th>\n",
              "      <td>500</td>\n",
              "      <td>0.10</td>\n",
              "      <td>0.0268</td>\n",
              "    </tr>\n",
              "    <tr>\n",
              "      <th>13</th>\n",
              "      <td>500</td>\n",
              "      <td>0.50</td>\n",
              "      <td>0.0252</td>\n",
              "    </tr>\n",
              "    <tr>\n",
              "      <th>14</th>\n",
              "      <td>500</td>\n",
              "      <td>0.90</td>\n",
              "      <td>0.0324</td>\n",
              "    </tr>\n",
              "    <tr>\n",
              "      <th>15</th>\n",
              "      <td>1000</td>\n",
              "      <td>0.01</td>\n",
              "      <td>0.0829</td>\n",
              "    </tr>\n",
              "    <tr>\n",
              "      <th>16</th>\n",
              "      <td>1000</td>\n",
              "      <td>0.05</td>\n",
              "      <td>0.0521</td>\n",
              "    </tr>\n",
              "    <tr>\n",
              "      <th>17</th>\n",
              "      <td>1000</td>\n",
              "      <td>0.10</td>\n",
              "      <td>0.0377</td>\n",
              "    </tr>\n",
              "    <tr>\n",
              "      <th>18</th>\n",
              "      <td>1000</td>\n",
              "      <td>0.50</td>\n",
              "      <td>0.0317</td>\n",
              "    </tr>\n",
              "    <tr>\n",
              "      <th>19</th>\n",
              "      <td>1000</td>\n",
              "      <td>0.90</td>\n",
              "      <td>0.0373</td>\n",
              "    </tr>\n",
              "  </tbody>\n",
              "</table>\n",
              "</div>"
            ],
            "text/plain": [
              "    Batch_size  Learning_rate  Classification_error\n",
              "0           50           0.01                0.0309\n",
              "1           50           0.05                0.0248\n",
              "2           50           0.10                0.0215\n",
              "3           50           0.50                0.0225\n",
              "4           50           0.90                0.0258\n",
              "5          120           0.01                0.0419\n",
              "6          120           0.05                0.0235\n",
              "7          120           0.10                0.0224\n",
              "8          120           0.50                0.0218\n",
              "9          120           0.90                0.0297\n",
              "10         500           0.01                0.0668\n",
              "11         500           0.05                0.0377\n",
              "12         500           0.10                0.0268\n",
              "13         500           0.50                0.0252\n",
              "14         500           0.90                0.0324\n",
              "15        1000           0.01                0.0829\n",
              "16        1000           0.05                0.0521\n",
              "17        1000           0.10                0.0377\n",
              "18        1000           0.50                0.0317\n",
              "19        1000           0.90                0.0373"
            ]
          },
          "metadata": {
            "tags": []
          },
          "execution_count": 73
        }
      ]
    },
    {
      "cell_type": "code",
      "metadata": {
        "id": "lB-A26WmKKeP"
      },
      "source": [
        "df_all_params.to_csv('all_params.csv')"
      ],
      "execution_count": null,
      "outputs": []
    },
    {
      "cell_type": "markdown",
      "metadata": {
        "id": "Ma-rgY_bKKeQ"
      },
      "source": [
        "###### <font color=darkred size=4 > Figure 5 </font>"
      ]
    },
    {
      "cell_type": "code",
      "metadata": {
        "id": "-XXuxpiwKKeQ",
        "outputId": "dcef4565-9018-4434-92ca-accb8a02176b"
      },
      "source": [
        "fig, ((ax1, ax2), (ax3, ax4)) = plt.subplots(2, 2, figsize=(12,6), dpi=85)\n",
        "fig.suptitle('Hyperparameters tuning')\n",
        "\n",
        "ax1.plot(df_all_params['Learning_rate'][:5], df_all_params['Classification_error'][:5])\n",
        "ax1.set_title(\"Classification error : batchsize 50\")\n",
        "ax1.set_xlabel('Learning rate')\n",
        "ax1.set_ylabel('Error rate')\n",
        "\n",
        "\n",
        "ax2.plot(df_all_params['Learning_rate'][5:10], df_all_params['Classification_error'][5:10], 'tab:orange')\n",
        "ax2.set_title(\"Classification error : Batchsize 120\")\n",
        "ax2.set_xlabel('Learning rate')\n",
        "ax2.set_ylabel('Error rate')\n",
        "\n",
        "ax3.plot(df_all_params['Learning_rate'][10:15], df_all_params['Classification_error'][10:15], 'tab:green')\n",
        "ax3.set_title(\"Classification error : Batchsize 500\")\n",
        "ax3.set_xlabel('Learning rate')\n",
        "ax3.set_ylabel('Error rate')\n",
        "\n",
        "ax4.plot(df_all_params['Learning_rate'][15:], df_all_params['Classification_error'][15:], 'tab:red')\n",
        "ax4.set_title(\"Classification error : Batchsize 1000\")\n",
        "ax4.set_xlabel('Learning rate')\n",
        "ax4.set_ylabel('Error rate')\n",
        "\n",
        "plt.subplots_adjust(top=0.87, bottom=0.08, left=0.10, right=0.90, hspace=0.45,\n",
        "                    wspace=0.2)\n"
      ],
      "execution_count": null,
      "outputs": [
        {
          "output_type": "display_data",
          "data": {
            "image/png": "[encoded data removed]",
            "text/plain": [
              "<Figure size 1020x510 with 4 Axes>"
            ]
          },
          "metadata": {
            "tags": [],
            "needs_background": "light"
          }
        }
      ]
    },
    {
      "cell_type": "markdown",
      "metadata": {
        "id": "BGDmmrrcKKeQ"
      },
      "source": [
        "###### <font color=darkred size=5 > Results </font>\n",
        "\n",
        "Hyperparameter tuning shows that the optimal classification error rate is obtained with **100 epochs**, **0.1 learning rate** et **50 as batchsize**.\n",
        "\n",
        "Figure 5 also shows us that when the learning rate is relatively high ($>0.5$), the classification errors obtained for small batch sizes increase. For a batch size equal to $1000$, we can see that the error rates of our DNN are higher than $3\\%$ (between 4 and 8\\% when the learning rate is less than or equal to $0.1$). Even if these values remain low, compared to those obtained with lower batch sizes, the overall performance of the DNN decreases. Looking more closely at the curves, we see that it is important to use high learning rates when the batch size is large (batch size $1000$, learning rate $<0.1$ vs batch size $1000$, learning rate $>0.2$).\n"
      ]
    },
    {
      "cell_type": "code",
      "metadata": {
        "id": "vHOizmYRKKeQ"
      },
      "source": [
        ""
      ],
      "execution_count": null,
      "outputs": []
    }
  ]
}